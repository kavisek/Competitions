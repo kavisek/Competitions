{
 "cells": [
  {
   "cell_type": "markdown",
   "metadata": {
    "ExecuteTime": {
     "end_time": "2018-03-05T06:17:03.884488Z",
     "start_time": "2018-03-05T06:17:03.882008Z"
    }
   },
   "source": [
    "# <center> Cleaning Data I"
   ]
  },
  {
   "cell_type": "markdown",
   "metadata": {},
   "source": [
    "### Import Modules"
   ]
  },
  {
   "cell_type": "code",
   "execution_count": null,
   "metadata": {
    "ExecuteTime": {
     "end_time": "2018-03-07T14:32:05.542998Z",
     "start_time": "2018-03-07T14:31:56.744238Z"
    },
    "collapsed": false
   },
   "outputs": [],
   "source": [
    "# Import Modules\n",
    "import pandas as pd\n",
    "\n",
    "# Import Data\n",
    "sample = pd.read_csv('https://www.dropbox.com/s/15jplg1yt05zl28/sample_submission.csv?dl=1', index_col='Id')\n",
    "test_df = pd.read_csv('https://www.dropbox.com/s/v2m4seozmqxyh3x/test.csv?dl=1', index_col='Id')\n",
    "train_df = pd.read_csv('https://www.dropbox.com/s/n95phfnwft9no0h/train.csv?dl=1', index_col='Id')\n",
    "\n",
    "\n",
    "dfs = [train_df, test_df]\n",
    "# View Sample Submission\n",
    "sample.head(5)"
   ]
  },
  {
   "cell_type": "code",
   "execution_count": null,
   "metadata": {
    "ExecuteTime": {
     "end_time": "2018-03-07T14:32:05.548121Z",
     "start_time": "2018-03-07T14:32:05.544223Z"
    },
    "collapsed": false
   },
   "outputs": [],
   "source": [
    "# Training and Testing Data Shape\n",
    "print('Training Shape:', train_df.shape)\n",
    "print('Test Shape:', test_df.shape)"
   ]
  },
  {
   "cell_type": "code",
   "execution_count": null,
   "metadata": {
    "ExecuteTime": {
     "end_time": "2018-03-07T14:32:05.577913Z",
     "start_time": "2018-03-07T14:32:05.549622Z"
    },
    "collapsed": false
   },
   "outputs": [],
   "source": [
    "# View training data\n",
    "train_df.sample(5)"
   ]
  },
  {
   "cell_type": "code",
   "execution_count": null,
   "metadata": {
    "ExecuteTime": {
     "end_time": "2018-03-07T14:32:05.607262Z",
     "start_time": "2018-03-07T14:32:05.579234Z"
    },
    "collapsed": false
   },
   "outputs": [],
   "source": [
    "# View Training Data\n",
    "test_df.sample(5)"
   ]
  },
  {
   "cell_type": "markdown",
   "metadata": {},
   "source": [
    "### Checking Null Values"
   ]
  },
  {
   "cell_type": "code",
   "execution_count": null,
   "metadata": {
    "ExecuteTime": {
     "end_time": "2018-03-07T14:32:05.612852Z",
     "start_time": "2018-03-07T14:32:05.609066Z"
    },
    "collapsed": false
   },
   "outputs": [],
   "source": [
    "train_df.LotFrontage.dtype"
   ]
  },
  {
   "cell_type": "code",
   "execution_count": null,
   "metadata": {
    "ExecuteTime": {
     "end_time": "2018-03-07T14:32:05.639320Z",
     "start_time": "2018-03-07T14:32:05.614405Z"
    },
    "collapsed": false
   },
   "outputs": [],
   "source": [
    "# Training Data Null Values\n",
    "train_null = pd.DataFrame(train_df.isnull().sum(), columns=['Train_df'])\n",
    "train_null = train_null[train_null['Train_df'] > 0]\n",
    "\n",
    "# Training Data Null Values\n",
    "test_null = pd.DataFrame(test_df.isnull().sum(), columns=['Test_df'])\n",
    "test_null = test_null[test_null['Test_df'] > 0]\n",
    "\n",
    "pd.concat([train_null, test_null], axis=1).fillna(0)"
   ]
  },
  {
   "cell_type": "markdown",
   "metadata": {
    "ExecuteTime": {
     "end_time": "2018-03-05T06:58:53.245569Z",
     "start_time": "2018-03-05T06:58:53.239318Z"
    }
   },
   "source": [
    "\n",
    "### Replace Null Values with their Median"
   ]
  },
  {
   "cell_type": "code",
   "execution_count": null,
   "metadata": {
    "ExecuteTime": {
     "end_time": "2018-03-07T14:32:05.650830Z",
     "start_time": "2018-03-07T14:32:05.640973Z"
    },
    "collapsed": false
   },
   "outputs": [],
   "source": [
    "object_columns = test_df.select_dtypes('object').columns.values\n",
    "numeric_columns = test_df.select_dtypes(['float64','int64']).columns.values"
   ]
  },
  {
   "cell_type": "code",
   "execution_count": null,
   "metadata": {
    "ExecuteTime": {
     "end_time": "2018-03-07T14:32:05.714063Z",
     "start_time": "2018-03-07T14:32:05.652144Z"
    },
    "collapsed": false
   },
   "outputs": [],
   "source": [
    "for feature in object_columns:\n",
    "  train_df[feature]  = train_df[feature].fillna(value='Unknown')\n",
    "  test_df[feature]  = test_df[feature].fillna(value='Unknown')\n",
    "  \n",
    "for feature in numeric_columns:\n",
    "  train_df[feature]  = train_df[feature].fillna(value = test_df[feature].median())\n",
    "  test_df[feature]  = test_df[feature].fillna(value = test_df[feature].median())"
   ]
  },
  {
   "cell_type": "markdown",
   "metadata": {},
   "source": [
    "\n",
    "### Export Cleaned Data"
   ]
  },
  {
   "cell_type": "code",
   "execution_count": null,
   "metadata": {
    "ExecuteTime": {
     "end_time": "2018-03-07T14:32:05.833685Z",
     "start_time": "2018-03-07T14:32:05.715453Z"
    },
    "collapsed": true
   },
   "outputs": [],
   "source": [
    "train_df.to_csv('Data/cleaned_train_df.csv', index=True)\n",
    "test_df.to_csv('Data/cleaned_test_df.csv', index=True)"
   ]
  }
 ],
 "metadata": {
  "kernelspec": {
   "display_name": "Python 3",
   "language": "python",
   "name": "python3"
  },
  "language_info": {
   "codemirror_mode": {
    "name": "ipython",
    "version": 3
   },
   "file_extension": ".py",
   "mimetype": "text/x-python",
   "name": "python",
   "nbconvert_exporter": "python",
   "pygments_lexer": "ipython3",
   "version": "3.6.2"
  }
 },
 "nbformat": 4,
 "nbformat_minor": 2
}
