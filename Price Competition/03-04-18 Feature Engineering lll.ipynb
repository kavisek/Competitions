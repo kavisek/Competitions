{
 "cells": [
  {
   "cell_type": "markdown",
   "metadata": {},
   "source": [
    "# <center> Feature Engineering 3\n",
    "**Summary of Action**\n",
    "* Dummy Value Creation\n",
    "* Apply Stanard Scaler on Numeric Values"
   ]
  },
  {
   "cell_type": "markdown",
   "metadata": {
    "ExecuteTime": {
     "end_time": "2018-03-05T13:52:18.352965Z",
     "start_time": "2018-03-05T13:52:18.350652Z"
    }
   },
   "source": [
    "### Import Preliminaries"
   ]
  },
  {
   "cell_type": "code",
   "execution_count": 89,
   "metadata": {
    "ExecuteTime": {
     "end_time": "2018-03-06T20:54:28.143143Z",
     "start_time": "2018-03-06T20:54:25.211338Z"
    },
    "collapsed": false
   },
   "outputs": [],
   "source": [
    "import pandas as pd\n",
    "import matplotlib.pyplot as plt\n",
    "from sklearn.preprocessing import LabelEncoder\n",
    "from sklearn.preprocessing import StandardScaler\n",
    "\n",
    "train_df = pd.read_csv('https://www.dropbox.com/s/nqftja8aa01z4mn/cleaned_train_df.csv?dl=1', index_col='Id')\n",
    "test_df = pd.read_csv('https://www.dropbox.com/s/gw7fi8o71kczq6q/cleaned_test_df.csv?dl=1', index_col='Id')\n",
    "dfs = [train_df, test_df]\n",
    "\n",
    "#Set pandas optio\n",
    "pd.set_option('max_columns',None)\n",
    "pd.set_option('max_rows',None)\n",
    "\n",
    "dfs = [train_df, test_df]"
   ]
  },
  {
   "cell_type": "code",
   "execution_count": 90,
   "metadata": {
    "ExecuteTime": {
     "end_time": "2018-03-06T20:54:28.149308Z",
     "start_time": "2018-03-06T20:54:28.144737Z"
    },
    "collapsed": false
   },
   "outputs": [
    {
     "name": "stdout",
     "output_type": "stream",
     "text": [
      "Training Dataframe: (1460, 80)\n",
      "Test Dataframe: (1459, 79)\n"
     ]
    }
   ],
   "source": [
    "print('Training Dataframe:', train_df.shape)\n",
    "print('Test Dataframe:', test_df.shape)"
   ]
  },
  {
   "cell_type": "markdown",
   "metadata": {
    "ExecuteTime": {
     "end_time": "2018-03-06T19:38:43.171799Z",
     "start_time": "2018-03-06T19:38:43.169190Z"
    }
   },
   "source": [
    "### Replace Outliers with the Median Value"
   ]
  },
  {
   "cell_type": "code",
   "execution_count": 91,
   "metadata": {
    "ExecuteTime": {
     "end_time": "2018-03-06T20:55:03.422448Z",
     "start_time": "2018-03-06T20:54:28.150830Z"
    },
    "collapsed": false
   },
   "outputs": [],
   "source": [
    "\n",
    "for df in dfs:\n",
    "  for col in df:\n",
    "    if df[col].dtype == 'int64' or df[col].dtype == 'float64':\n",
    "      for value in df[col]:\n",
    "        if value > df[col].quantile(.95): value = df[col].median()\n",
    "        if value < df[col].quantile(.05): value = df[col].median()"
   ]
  },
  {
   "cell_type": "markdown",
   "metadata": {
    "ExecuteTime": {
     "end_time": "2018-03-05T13:52:33.219338Z",
     "start_time": "2018-03-05T13:52:33.214418Z"
    }
   },
   "source": [
    "### Dummy Value Creation"
   ]
  },
  {
   "cell_type": "code",
   "execution_count": 92,
   "metadata": {
    "ExecuteTime": {
     "end_time": "2018-03-06T20:55:03.516520Z",
     "start_time": "2018-03-06T20:55:03.423981Z"
    },
    "collapsed": false
   },
   "outputs": [],
   "source": [
    "# concat dataframes for labeling\n",
    "all_data = pd.concat([train_df, test_df], axis=0)\n",
    "\n",
    "# create dummy variables for the application\n",
    "all_data = pd.get_dummies(all_data)"
   ]
  },
  {
   "cell_type": "markdown",
   "metadata": {
    "ExecuteTime": {
     "end_time": "2018-03-05T19:26:50.240116Z",
     "start_time": "2018-03-05T19:26:50.185833Z"
    }
   },
   "source": [
    "### Export DataFrames"
   ]
  },
  {
   "cell_type": "code",
   "execution_count": 93,
   "metadata": {
    "ExecuteTime": {
     "end_time": "2018-03-06T20:55:03.987757Z",
     "start_time": "2018-03-06T20:55:03.517929Z"
    },
    "collapsed": false,
    "scrolled": true
   },
   "outputs": [],
   "source": [
    "train_df = all_data[:1460]\n",
    "test_df = all_data[1460:].drop('SalePrice', axis=1)\n",
    "\n",
    "train_df.to_csv('Data/featured_train_df.csv', index=True)\n",
    "test_df.to_csv('Data/featured_test_df.csv', index=True)"
   ]
  }
 ],
 "metadata": {
  "kernelspec": {
   "display_name": "Python 3",
   "language": "python",
   "name": "python3"
  },
  "language_info": {
   "codemirror_mode": {
    "name": "ipython",
    "version": 3
   },
   "file_extension": ".py",
   "mimetype": "text/x-python",
   "name": "python",
   "nbconvert_exporter": "python",
   "pygments_lexer": "ipython3",
   "version": "3.6.2"
  }
 },
 "nbformat": 4,
 "nbformat_minor": 2
}
