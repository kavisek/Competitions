{
 "cells": [
  {
   "cell_type": "markdown",
   "metadata": {},
   "source": [
    "# <center> Feature Engineering I\n",
    "**Summary of Action**\n",
    "* Label Encoding on Qualative Values"
   ]
  },
  {
   "cell_type": "markdown",
   "metadata": {
    "ExecuteTime": {
     "end_time": "2018-03-05T13:52:18.352965Z",
     "start_time": "2018-03-05T13:52:18.350652Z"
    }
   },
   "source": [
    "### Import Preliminaries"
   ]
  },
  {
   "cell_type": "code",
   "execution_count": 10,
   "metadata": {
    "ExecuteTime": {
     "end_time": "2018-03-05T20:33:58.041344Z",
     "start_time": "2018-03-05T20:33:54.110606Z"
    },
    "collapsed": false
   },
   "outputs": [],
   "source": [
    "import pandas as pd\n",
    "import matplotlib.pyplot as plt\n",
    "from sklearn.preprocessing import LabelEncoder\n",
    "\n",
    "train_df = pd.read_csv('https://www.dropbox.com/s/nqftja8aa01z4mn/cleaned_train_df.csv?dl=1', index_col='Id')\n",
    "test_df = pd.read_csv('https://www.dropbox.com/s/gw7fi8o71kczq6q/cleaned_test_df.csv?dl=1', index_col='Id')\n",
    "dfs = [train_df, test_df]\n",
    "\n",
    "#Set pandas optio\n",
    "pd.set_option('max_columns',None)\n",
    "pd.set_option('max_rows',None)"
   ]
  },
  {
   "cell_type": "code",
   "execution_count": 11,
   "metadata": {
    "ExecuteTime": {
     "end_time": "2018-03-05T20:33:58.046235Z",
     "start_time": "2018-03-05T20:33:58.042672Z"
    },
    "collapsed": false
   },
   "outputs": [
    {
     "name": "stdout",
     "output_type": "stream",
     "text": [
      "Training Dataframe: (1460, 80)\n",
      "Test Dataframe: (1459, 79)\n"
     ]
    }
   ],
   "source": [
    "print('Training Dataframe:', train_df.shape)\n",
    "print('Test Dataframe:', test_df.shape)"
   ]
  },
  {
   "cell_type": "markdown",
   "metadata": {
    "ExecuteTime": {
     "end_time": "2018-03-05T13:52:33.219338Z",
     "start_time": "2018-03-05T13:52:33.214418Z"
    }
   },
   "source": [
    "### Label Encoding on Quantative Feature"
   ]
  },
  {
   "cell_type": "code",
   "execution_count": 12,
   "metadata": {
    "ExecuteTime": {
     "end_time": "2018-03-05T20:33:58.156100Z",
     "start_time": "2018-03-05T20:33:58.048129Z"
    },
    "collapsed": false
   },
   "outputs": [],
   "source": [
    "# create dataframe feature for splitting\n",
    "train_df['Df'] = 'train_df'\n",
    "test_df['Df'] = 'test_df'\n",
    "\n",
    "# concat dataframes for labeling\n",
    "all_data = pd.concat([train_df, test_df], axis=0)\n",
    "\n",
    "object_columns = list(all_data.select_dtypes('object').columns)\n",
    "le = LabelEncoder() \n",
    "\n",
    "for col in all_data[object_columns]:\n",
    "    all_data[col] = le.fit_transform(all_data[col])"
   ]
  },
  {
   "cell_type": "markdown",
   "metadata": {
    "ExecuteTime": {
     "end_time": "2018-03-05T19:26:50.240116Z",
     "start_time": "2018-03-05T19:26:50.185833Z"
    }
   },
   "source": [
    "### Export DataFrames"
   ]
  },
  {
   "cell_type": "code",
   "execution_count": 13,
   "metadata": {
    "ExecuteTime": {
     "end_time": "2018-03-05T20:33:58.322743Z",
     "start_time": "2018-03-05T20:33:58.158080Z"
    },
    "collapsed": false
   },
   "outputs": [],
   "source": [
    "train_df = all_data[all_data['Df'] == 1]\n",
    "test_df = all_data[all_data['Df'] == 0]\n",
    "\n",
    "train_df.index.name = 'Id'; test_df.index.name = 'Id'\n",
    "\n",
    "train_df.to_csv('Data/featured_train_df.csv', index=True)\n",
    "test_df.to_csv('Data/featured_test_df.csv', index=True)"
   ]
  }
 ],
 "metadata": {
  "kernelspec": {
   "display_name": "Python 3",
   "language": "python",
   "name": "python3"
  },
  "language_info": {
   "codemirror_mode": {
    "name": "ipython",
    "version": 3
   },
   "file_extension": ".py",
   "mimetype": "text/x-python",
   "name": "python",
   "nbconvert_exporter": "python",
   "pygments_lexer": "ipython3",
   "version": "3.6.2"
  }
 },
 "nbformat": 4,
 "nbformat_minor": 2
}
