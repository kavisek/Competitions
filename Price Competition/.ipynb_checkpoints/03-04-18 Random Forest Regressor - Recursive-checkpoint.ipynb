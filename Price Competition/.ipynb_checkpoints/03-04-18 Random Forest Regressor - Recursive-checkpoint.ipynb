{
 "cells": [
  {
   "cell_type": "markdown",
   "metadata": {},
   "source": [
    "# <center> Random Forest Regressor\n",
    "**Summary of Actions**\n",
    "* Custom RMSE evaluation metric on logged values\n",
    "* A simlpe rangom forest regressor model\n",
    " "
   ]
  },
  {
   "cell_type": "markdown",
   "metadata": {},
   "source": [
    "### Import Preliminaries"
   ]
  },
  {
   "cell_type": "code",
   "execution_count": null,
   "metadata": {
    "ExecuteTime": {
     "end_time": "2018-03-07T15:17:37.565131Z",
     "start_time": "2018-03-07T15:17:29.211065Z"
    },
    "collapsed": false
   },
   "outputs": [],
   "source": [
    "%matplotlib inline\n",
    "\n",
    "# Import modules\n",
    "import numpy as np\n",
    "import pandas as pd\n",
    "import seaborn as sns\n",
    "import matplotlib.pyplot as plt\n",
    "from sklearn.ensemble import RandomForestRegressor\n",
    "from sklearn.feature_selection import RFECV\n",
    "from sklearn.model_selection import cross_val_score, KFold\n",
    "from sklearn.metrics import mean_squared_error\n",
    "from math import sqrt\n",
    "\n",
    "# Import data\n",
    "train_df = pd.DataFrame(pd.read_csv(\n",
    "    'https://www.dropbox.com/s/8ftdd4tejbmesy4/featured_train_df.csv?dl=1', index_col='Id'))\n",
    "test_df = pd.DataFrame(pd.read_csv(\n",
    "    'https://www.dropbox.com/s/h672z8790ehkxuj/featured_test_df.csv?dl=1', index_col='Id'))\n",
    "\n",
    "# Set pandas options\n",
    "pd.set_option('precision', 1)\n",
    "pd.set_option('max_columns', 100)\n",
    "pd.set_option('max_rows', 100)\n",
    "pd.set_option('precision', 3)\n",
    "\n",
    "# List of dataframe\n",
    "dfs = [train_df, test_df]"
   ]
  },
  {
   "cell_type": "markdown",
   "metadata": {
    "ExecuteTime": {
     "end_time": "2018-03-05T19:48:25.554090Z",
     "start_time": "2018-03-05T19:48:25.551776Z"
    }
   },
   "source": [
    "### DataFrame to Values"
   ]
  },
  {
   "cell_type": "code",
   "execution_count": null,
   "metadata": {
    "ExecuteTime": {
     "end_time": "2018-03-07T15:17:37.565511Z",
     "start_time": "2018-03-07T07:17:29.213Z"
    },
    "collapsed": false
   },
   "outputs": [],
   "source": [
    "# Convert training and test data to values\n",
    "X = train_df.loc[:, train_df.columns != 'SalePrice'].copy().values\n",
    "y = train_df.SalePrice.values\n",
    "X_test = test_df.values"
   ]
  },
  {
   "cell_type": "markdown",
   "metadata": {},
   "source": [
    "### Fitting the Model "
   ]
  },
  {
   "cell_type": "code",
   "execution_count": null,
   "metadata": {
    "ExecuteTime": {
     "end_time": "2018-03-07T15:17:37.565747Z",
     "start_time": "2018-03-07T07:17:29.215Z"
    },
    "collapsed": false
   },
   "outputs": [],
   "source": [
    "# Creating and fitting the model\n",
    "model = RandomForestRegressor()\n",
    "model.fit(X,y)"
   ]
  },
  {
   "cell_type": "markdown",
   "metadata": {},
   "source": [
    "### Model Predictions"
   ]
  },
  {
   "cell_type": "code",
   "execution_count": null,
   "metadata": {
    "ExecuteTime": {
     "end_time": "2018-03-07T15:17:37.565957Z",
     "start_time": "2018-03-07T07:17:29.218Z"
    },
    "collapsed": false
   },
   "outputs": [],
   "source": [
    "# create predictions dataframe\n",
    "predictions = pd.DataFrame(test_df.index)\n",
    "saleprice = pd.DataFrame(model.predict(X_test),\n",
    "                          columns=['SalePrice'])\n",
    "predictions = pd.concat([predictions, saleprice],axis=1)\n",
    "\n",
    "# View test predictions"
   ]
  },
  {
   "cell_type": "code",
   "execution_count": null,
   "metadata": {
    "ExecuteTime": {
     "end_time": "2018-03-07T15:17:37.566147Z",
     "start_time": "2018-03-07T07:17:29.221Z"
    },
    "collapsed": false
   },
   "outputs": [],
   "source": [
    "# View training predictions\n",
    "train_df_prediction = pd.DataFrame(model.predict(X), columns=['Pred SalePrice'])\n",
    "train_df_prediction = train_df_prediction.set_index(train_df.index)\n",
    "train_df_prediction = pd.concat([train_df['SalePrice'], train_df_prediction], axis=1)\n",
    "train_df_prediction.sample(3)"
   ]
  },
  {
   "cell_type": "markdown",
   "metadata": {},
   "source": [
    "### Residual Plot"
   ]
  },
  {
   "cell_type": "code",
   "execution_count": null,
   "metadata": {
    "ExecuteTime": {
     "end_time": "2018-03-07T15:17:37.566359Z",
     "start_time": "2018-03-07T07:17:29.234Z"
    },
    "collapsed": false
   },
   "outputs": [],
   "source": [
    "# Plotting training data residuals\n",
    "residplot = sns.residplot(\n",
    "    train_df.SalePrice, train_df_prediction['Pred SalePrice'], color='darkred')\n",
    "plt.title('Model Residual Plot')\n",
    "residplot.set(ylim=(-200000, 200000))\n",
    "residplot"
   ]
  },
  {
   "cell_type": "markdown",
   "metadata": {},
   "source": [
    "### Model Crossvalidation"
   ]
  },
  {
   "cell_type": "code",
   "execution_count": null,
   "metadata": {
    "ExecuteTime": {
     "end_time": "2018-03-07T15:17:37.566554Z",
     "start_time": "2018-03-07T07:17:29.237Z"
    },
    "collapsed": false
   },
   "outputs": [],
   "source": [
    "# Creating list to store KFold scores\n",
    "scores = list()\n",
    "\n",
    "# Retrieve KFold scorse on test data, 10 folds\n",
    "kf = KFold(n_splits=10)\n",
    "for train_index, test_index in kf.split(X):\n",
    "\n",
    "    X_train, X_test = X[train_index], X[test_index]\n",
    "    y_train, y_test = y[train_index], y[test_index]\n",
    "\n",
    "    model.fit(X_train, y_train)\n",
    "\n",
    "    y_pred = pd.Series(model.predict(X_test))\n",
    "    y_test = pd.Series(y_test)\n",
    "\n",
    "    rmse = sqrt(mean_squared_error(np.log(y_test), np.log(np.abs(y_pred))))\n",
    "\n",
    "    scores.append(rmse)\n",
    "\n",
    "# Mean Logged RMSE Evaulation metric for our model\n",
    "scores = pd.Series(scores, name='Scores')\n",
    "print('Logged RMSE:', round(scores.mean(),4))"
   ]
  },
  {
   "cell_type": "markdown",
   "metadata": {},
   "source": [
    "### Recursive Feature Elimination"
   ]
  },
  {
   "cell_type": "code",
   "execution_count": null,
   "metadata": {},
   "outputs": [],
   "source": [
    "selector = RFECV(estimator=model, cv=10,\n",
    "                scoring='neg_mean_squared_error')\n",
    "selector.fit(X,y)\n",
    "print('Optimal Number of Features %d' %selector.n_features_)"
   ]
  },
  {
   "cell_type": "code",
   "execution_count": null,
   "metadata": {},
   "outputs": [],
   "source": [
    "# Print the Optimal Features\n",
    "rfeatures = train_df.drop(['SalePrice'], axis=1).columns[selector.support_]\n",
    "pd.Series(rfeatures).sample(10)"
   ]
  },
  {
   "cell_type": "code",
   "execution_count": null,
   "metadata": {},
   "outputs": [],
   "source": [
    "# Reduced Datafarme to Values\n",
    "X = train_df[list(rfeatures)].values\n",
    "y = train_df.SalePrice.values\n",
    "X_test = test_df[list(rfeatures)].values\n",
    "\n",
    "# Fit the Model\n",
    "model = RandomForestRegressor()\n",
    "model.fit(X,y)\n",
    "\n",
    "# create predictions dataframe\n",
    "predictions = pd.DataFrame(test_df.index)\n",
    "saleprice = pd.DataFrame(model.predict(X_test),\n",
    "                          columns=['SalePrice'])\n",
    "predictions = pd.concat([predictions, saleprice],axis=1)"
   ]
  },
  {
   "cell_type": "markdown",
   "metadata": {},
   "source": [
    "### Export Results"
   ]
  },
  {
   "cell_type": "code",
   "execution_count": null,
   "metadata": {
    "ExecuteTime": {
     "end_time": "2018-03-07T15:17:37.566748Z",
     "start_time": "2018-03-07T07:17:29.238Z"
    },
    "collapsed": false
   },
   "outputs": [],
   "source": [
    "# Exporting data without index\n",
    "predictions.to_csv('Submissions/rfg_recursive_predicition.csv', index=False)"
   ]
  },
  {
   "cell_type": "markdown",
   "metadata": {},
   "source": [
    "### Accuracy Scores"
   ]
  },
  {
   "cell_type": "markdown",
   "metadata": {},
   "source": [
    "<br>Feature Enginnering 1 - RMSE: 0.1529\n",
    "<br>Feature Enginnering 2 - RMSE: 0.1489\n",
    "<br>Feature Enginnering 3 - RMSE: 0.1503"
   ]
  },
  {
   "cell_type": "markdown",
   "metadata": {},
   "source": [
    "### Kaggle Scores\n",
    "\n",
    "<br>Feature Engineering 1 - RMSE: 0.15486\n",
    "<br>Feature Engineering 2 - RMSE: 0.15934\n",
    "<br>Feature Enginnering 3 - RMSE: 0.15565"
   ]
  }
 ],
 "metadata": {
  "kernelspec": {
   "display_name": "Python 3",
   "language": "python",
   "name": "python3"
  },
  "language_info": {
   "codemirror_mode": {
    "name": "ipython",
    "version": 3
   },
   "file_extension": ".py",
   "mimetype": "text/x-python",
   "name": "python",
   "nbconvert_exporter": "python",
   "pygments_lexer": "ipython3",
   "version": "3.6.2"
  }
 },
 "nbformat": 4,
 "nbformat_minor": 2
}
