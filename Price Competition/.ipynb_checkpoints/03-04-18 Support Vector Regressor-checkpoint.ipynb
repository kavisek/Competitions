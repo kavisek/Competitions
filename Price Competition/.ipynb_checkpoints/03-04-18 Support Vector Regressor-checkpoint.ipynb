{
 "cells": [
  {
   "cell_type": "markdown",
   "metadata": {},
   "source": [
    "# <center> Support Vector Regressor\n",
    "**Summary of Actions**\n",
    "* Custom RMSE evaluation metric on logged values\n",
    "* A simlpe Support Vector Regressor"
   ]
  },
  {
   "cell_type": "markdown",
   "metadata": {},
   "source": [
    "### Import Preliminaries"
   ]
  },
  {
   "cell_type": "code",
   "execution_count": 13,
   "metadata": {
    "ExecuteTime": {
     "end_time": "2018-03-06T15:32:28.870139Z",
     "start_time": "2018-03-06T15:32:25.069293Z"
    },
    "collapsed": false
   },
   "outputs": [],
   "source": [
    "%matplotlib inline\n",
    "\n",
    "# Import modules\n",
    "import numpy as np\n",
    "import pandas as pd\n",
    "import seaborn as sns\n",
    "import matplotlib.pyplot as plt\n",
    "from sklearn.svm import LinearSVR\n",
    "from sklearn.model_selection import cross_val_score, KFold\n",
    "from sklearn.metrics import mean_squared_error\n",
    "from math import sqrt\n",
    "\n",
    "# Import data\n",
    "train_df = pd.DataFrame(pd.read_csv(\n",
    "    'https://www.dropbox.com/s/8ftdd4tejbmesy4/featured_train_df.csv?dl=1', index_col='Id'))\n",
    "test_df = pd.DataFrame(pd.read_csv(\n",
    "    'https://www.dropbox.com/s/h672z8790ehkxuj/featured_test_df.csv?dl=1', index_col='Id'))\n",
    "test_df.drop('SalePrice', axis=1, inplace=True)\n",
    "\n",
    "# Set pandas options\n",
    "pd.set_option('precision', 1)\n",
    "pd.set_option('max_columns', 100)\n",
    "pd.set_option('max_rows', 100)\n",
    "pd.set_option('precision', 3)\n",
    "\n",
    "# List of dataframe\n",
    "dfs = [train_df, test_df]"
   ]
  },
  {
   "cell_type": "markdown",
   "metadata": {
    "ExecuteTime": {
     "end_time": "2018-03-05T19:48:25.554090Z",
     "start_time": "2018-03-05T19:48:25.551776Z"
    }
   },
   "source": [
    "### DataFrame to Values"
   ]
  },
  {
   "cell_type": "code",
   "execution_count": 14,
   "metadata": {
    "ExecuteTime": {
     "end_time": "2018-03-06T15:32:28.879007Z",
     "start_time": "2018-03-06T15:32:28.871616Z"
    },
    "collapsed": false
   },
   "outputs": [],
   "source": [
    "# Convert training and test data to values\n",
    "X = train_df.loc[:, train_df.columns != 'SalePrice'].copy().values\n",
    "y = train_df.SalePrice.values\n",
    "X_test = test_df.values"
   ]
  },
  {
   "cell_type": "markdown",
   "metadata": {},
   "source": [
    "### Fitting the Model "
   ]
  },
  {
   "cell_type": "code",
   "execution_count": 15,
   "metadata": {
    "ExecuteTime": {
     "end_time": "2018-03-06T15:32:29.128519Z",
     "start_time": "2018-03-06T15:32:28.880389Z"
    },
    "collapsed": false
   },
   "outputs": [
    {
     "data": {
      "text/plain": [
       "LinearSVR(C=1.0, dual=True, epsilon=0.0, fit_intercept=True,\n",
       "     intercept_scaling=1.0, loss='epsilon_insensitive', max_iter=1000,\n",
       "     random_state=None, tol=0.0001, verbose=0)"
      ]
     },
     "execution_count": 15,
     "metadata": {},
     "output_type": "execute_result"
    }
   ],
   "source": [
    "# Creating and fitting the model\n",
    "model = LinearSVR()\n",
    "model.fit(X,y)"
   ]
  },
  {
   "cell_type": "markdown",
   "metadata": {},
   "source": [
    "### Model Predictions"
   ]
  },
  {
   "cell_type": "code",
   "execution_count": 16,
   "metadata": {
    "ExecuteTime": {
     "end_time": "2018-03-06T15:32:29.135751Z",
     "start_time": "2018-03-06T15:32:29.129919Z"
    },
    "collapsed": false
   },
   "outputs": [],
   "source": [
    "# create predictions dataframe\n",
    "predictions = pd.DataFrame(test_df.index)\n",
    "saleprice = pd.DataFrame(model.predict(X_test),\n",
    "                          columns=['SalePrice'])\n",
    "predictions = pd.concat([predictions, saleprice],axis=1)\n",
    "\n",
    "# View test predictions"
   ]
  },
  {
   "cell_type": "code",
   "execution_count": 17,
   "metadata": {
    "ExecuteTime": {
     "end_time": "2018-03-06T15:32:29.147357Z",
     "start_time": "2018-03-06T15:32:29.137396Z"
    },
    "collapsed": false
   },
   "outputs": [
    {
     "data": {
      "text/html": [
       "<div>\n",
       "<style scoped>\n",
       "    .dataframe tbody tr th:only-of-type {\n",
       "        vertical-align: middle;\n",
       "    }\n",
       "\n",
       "    .dataframe tbody tr th {\n",
       "        vertical-align: top;\n",
       "    }\n",
       "\n",
       "    .dataframe thead th {\n",
       "        text-align: right;\n",
       "    }\n",
       "</style>\n",
       "<table border=\"1\" class=\"dataframe\">\n",
       "  <thead>\n",
       "    <tr style=\"text-align: right;\">\n",
       "      <th></th>\n",
       "      <th>SalePrice</th>\n",
       "      <th>Pred SalePrice</th>\n",
       "    </tr>\n",
       "    <tr>\n",
       "      <th>Id</th>\n",
       "      <th></th>\n",
       "      <th></th>\n",
       "    </tr>\n",
       "  </thead>\n",
       "  <tbody>\n",
       "    <tr>\n",
       "      <th>894</th>\n",
       "      <td>165000.0</td>\n",
       "      <td>168702.220</td>\n",
       "    </tr>\n",
       "    <tr>\n",
       "      <th>282</th>\n",
       "      <td>185000.0</td>\n",
       "      <td>200559.400</td>\n",
       "    </tr>\n",
       "    <tr>\n",
       "      <th>974</th>\n",
       "      <td>182000.0</td>\n",
       "      <td>202649.127</td>\n",
       "    </tr>\n",
       "  </tbody>\n",
       "</table>\n",
       "</div>"
      ],
      "text/plain": [
       "     SalePrice  Pred SalePrice\n",
       "Id                            \n",
       "894   165000.0      168702.220\n",
       "282   185000.0      200559.400\n",
       "974   182000.0      202649.127"
      ]
     },
     "execution_count": 17,
     "metadata": {},
     "output_type": "execute_result"
    }
   ],
   "source": [
    "# View training predictions\n",
    "train_df_prediction = pd.DataFrame(model.predict(X), columns=['Pred SalePrice'])\n",
    "train_df_prediction = train_df_prediction.set_index(train_df.index)\n",
    "train_df_prediction = pd.concat([train_df['SalePrice'], train_df_prediction], axis=1)\n",
    "train_df_prediction.sample(3)"
   ]
  },
  {
   "cell_type": "markdown",
   "metadata": {},
   "source": [
    "### Residual Plot"
   ]
  },
  {
   "cell_type": "code",
   "execution_count": 18,
   "metadata": {
    "ExecuteTime": {
     "end_time": "2018-03-06T15:32:29.352373Z",
     "start_time": "2018-03-06T15:32:29.148643Z"
    },
    "collapsed": false
   },
   "outputs": [
    {
     "data": {
      "text/plain": [
       "<matplotlib.axes._subplots.AxesSubplot at 0x114047ba8>"
      ]
     },
     "execution_count": 18,
     "metadata": {},
     "output_type": "execute_result"
    },
    {
     "data": {
      "image/png": "[encoded data removed]",
      "text/plain": [
       "<matplotlib.figure.Figure at 0x106c632b0>"
      ]
     },
     "metadata": {},
     "output_type": "display_data"
    }
   ],
   "source": [
    "# Plotting training data residuals\n",
    "residplot = sns.residplot(\n",
    "    train_df.SalePrice, train_df_prediction['Pred SalePrice'], color='darkred')\n",
    "plt.title('Model Residual Plot')\n",
    "residplot.set(ylim=(-200000, 200000))\n",
    "residplot"
   ]
  },
  {
   "cell_type": "markdown",
   "metadata": {},
   "source": [
    "### Model Crossvalidation"
   ]
  },
  {
   "cell_type": "code",
   "execution_count": 19,
   "metadata": {
    "ExecuteTime": {
     "end_time": "2018-03-06T15:32:31.527311Z",
     "start_time": "2018-03-06T15:32:29.354426Z"
    },
    "collapsed": false
   },
   "outputs": [
    {
     "name": "stdout",
     "output_type": "stream",
     "text": [
      "Logged RMSE: 0.2774\n"
     ]
    }
   ],
   "source": [
    "# Creating list to store KFold scores\n",
    "scores = list()\n",
    "\n",
    "# Retrieve KFold scorse on test data, 10 folds\n",
    "kf = KFold(n_splits=10)\n",
    "for train_index, test_index in kf.split(X):\n",
    "\n",
    "    X_train, X_test = X[train_index], X[test_index]\n",
    "    y_train, y_test = y[train_index], y[test_index]\n",
    "\n",
    "    model.fit(X_train, y_train)\n",
    "\n",
    "    y_pred = pd.Series(model.predict(X_test))\n",
    "    y_test = pd.Series(y_test)\n",
    "\n",
    "    rmse = sqrt(mean_squared_error(np.log(y_test), np.log(np.abs(y_pred))))\n",
    "\n",
    "    scores.append(rmse)\n",
    "\n",
    "# Mean Logged RMSE Evaulation metric for our model\n",
    "scores = pd.Series(scores, name='Scores')\n",
    "print('Logged RMSE:', round(scores.mean(),4))"
   ]
  },
  {
   "cell_type": "markdown",
   "metadata": {},
   "source": [
    "### Export Results"
   ]
  },
  {
   "cell_type": "code",
   "execution_count": 20,
   "metadata": {
    "ExecuteTime": {
     "end_time": "2018-03-06T15:32:31.537464Z",
     "start_time": "2018-03-06T15:32:31.528645Z"
    },
    "collapsed": false
   },
   "outputs": [],
   "source": [
    "# Exporting data without index\n",
    "predictions.to_csv('Submissions/svr_predicition.csv', index=False)"
   ]
  },
  {
   "cell_type": "markdown",
   "metadata": {},
   "source": [
    "### Accuracy Scores"
   ]
  },
  {
   "cell_type": "markdown",
   "metadata": {},
   "source": [
    "Feature Enginnering - RMSE: 0.2001"
   ]
  },
  {
   "cell_type": "markdown",
   "metadata": {},
   "source": [
    "### Kaggle Scores\n",
    "\n",
    "Feature Engineering - RMSE: 0.15486"
   ]
  }
 ],
 "metadata": {
  "kernelspec": {
   "display_name": "Python 3",
   "language": "python",
   "name": "python3"
  },
  "language_info": {
   "codemirror_mode": {
    "name": "ipython",
    "version": 3
   },
   "file_extension": ".py",
   "mimetype": "text/x-python",
   "name": "python",
   "nbconvert_exporter": "python",
   "pygments_lexer": "ipython3",
   "version": "3.6.2"
  }
 },
 "nbformat": 4,
 "nbformat_minor": 2
}
