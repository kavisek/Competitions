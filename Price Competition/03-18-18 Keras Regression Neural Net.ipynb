{
 "cells": [
  {
   "cell_type": "markdown",
   "metadata": {},
   "source": [
    "# <center> Keras Neural Network\n",
    "**Summary of Actions**\n",
    "* Custom RMSE evaluation metric on logged values\n",
    "* A simlpe rangom forest regressor model\n",
    " "
   ]
  },
  {
   "cell_type": "markdown",
   "metadata": {},
   "source": [
    "### Import Preliminaries"
   ]
  },
  {
   "cell_type": "code",
   "execution_count": 2,
   "metadata": {
    "ExecuteTime": {
     "end_time": "2018-03-07T15:17:37.565131Z",
     "start_time": "2018-03-07T15:17:29.211065Z"
    },
    "collapsed": false
   },
   "outputs": [],
   "source": [
    "%matplotlib inline\n",
    "\n",
    "# Import modules\n",
    "import numpy as np\n",
    "import pandas as pd\n",
    "import seaborn as sns\n",
    "import matplotlib.pyplot as plt\n",
    "from sklearn.ensemble import RandomForestRegressor\n",
    "from sklearn.model_selection import cross_val_score, KFold\n",
    "from sklearn.metrics import mean_squared_error\n",
    "from math import sqrt\n",
    "\n",
    "# Import data\n",
    "train_df = pd.DataFrame(pd.read_csv(\n",
    "    'Data/featured_train_df.csv', index_col='Id'))\n",
    "test_df = pd.DataFrame(pd.read_csv(\n",
    "    'Data/featured_test_df.csv', index_col='Id'))\n",
    "\n",
    "# Set pandas options\n",
    "pd.set_option('precision', 1)\n",
    "pd.set_option('max_columns', 100)\n",
    "pd.set_option('max_rows', 100)\n",
    "pd.set_option('precision', 3)\n",
    "\n",
    "# List of dataframe\n",
    "dfs = [train_df, test_df]"
   ]
  },
  {
   "cell_type": "markdown",
   "metadata": {
    "ExecuteTime": {
     "end_time": "2018-03-05T19:48:25.554090Z",
     "start_time": "2018-03-05T19:48:25.551776Z"
    }
   },
   "source": [
    "### DataFrame to Values"
   ]
  },
  {
   "cell_type": "code",
   "execution_count": 3,
   "metadata": {
    "ExecuteTime": {
     "end_time": "2018-03-07T15:17:37.565511Z",
     "start_time": "2018-03-07T07:17:29.213Z"
    },
    "collapsed": false
   },
   "outputs": [],
   "source": [
    "# Convert training and test data to values\n",
    "X = train_df.loc[:, train_df.columns != 'SalePrice'].copy().values\n",
    "y = train_df.SalePrice.values\n",
    "X_test = test_df.values"
   ]
  },
  {
   "cell_type": "markdown",
   "metadata": {},
   "source": [
    "### Train Test Split the Data"
   ]
  },
  {
   "cell_type": "code",
   "execution_count": 26,
   "metadata": {
    "ExecuteTime": {
     "end_time": "2018-03-07T15:17:37.565747Z",
     "start_time": "2018-03-07T07:17:29.215Z"
    }
   },
   "outputs": [],
   "source": [
    "from sklearn.model_selection import train_test_split\n",
    "\n",
    "x_train, y_train, x_val, y_val = train_test_split(X, y, shuffle=True, test_size=0.30)"
   ]
  },
  {
   "cell_type": "code",
   "execution_count": 27,
   "metadata": {},
   "outputs": [
    {
     "data": {
      "text/plain": [
       "(1022,)"
      ]
     },
     "execution_count": 27,
     "metadata": {},
     "output_type": "execute_result"
    }
   ],
   "source": [
    "x_val.shape"
   ]
  },
  {
   "cell_type": "markdown",
   "metadata": {},
   "source": [
    "### Keras Regression Model"
   ]
  },
  {
   "cell_type": "code",
   "execution_count": 29,
   "metadata": {},
   "outputs": [
    {
     "name": "stdout",
     "output_type": "stream",
     "text": [
      "Epoch 1/10\n",
      "1022/1022 [==============================] - 1s 496us/step - loss: 35601048473.8004 - mean_absolute_error: 173352.1733\n",
      "Epoch 2/10\n",
      "1022/1022 [==============================] - 0s 61us/step - loss: 28598439619.3816 - mean_absolute_error: 152999.9065\n",
      "Epoch 3/10\n",
      "1022/1022 [==============================] - 0s 55us/step - loss: 19055095972.3209 - mean_absolute_error: 118797.1359\n",
      "Epoch 4/10\n",
      "1022/1022 [==============================] - 0s 55us/step - loss: 10936003888.5949 - mean_absolute_error: 80120.1047\n",
      "Epoch 5/10\n",
      "1022/1022 [==============================] - 0s 64us/step - loss: 7599624665.9256 - mean_absolute_error: 53156.5943\n",
      "Epoch 6/10\n",
      "1022/1022 [==============================] - 0s 54us/step - loss: 6572692600.4853 - mean_absolute_error: 46634.5811\n",
      "Epoch 7/10\n",
      "1022/1022 [==============================] - 0s 56us/step - loss: 5962625346.6301 - mean_absolute_error: 45119.5098\n",
      "Epoch 8/10\n",
      "1022/1022 [==============================] - 0s 64us/step - loss: 5324386009.4247 - mean_absolute_error: 44326.6632\n",
      "Epoch 9/10\n",
      "1022/1022 [==============================] - 0s 52us/step - loss: 4797397176.8611 - mean_absolute_error: 43709.6092\n",
      "Epoch 10/10\n",
      "1022/1022 [==============================] - 0s 59us/step - loss: 4383238145.5029 - mean_absolute_error: 42403.9398\n"
     ]
    },
    {
     "data": {
      "text/plain": [
       "<keras.callbacks.History at 0x11ad646a0>"
      ]
     },
     "execution_count": 29,
     "metadata": {},
     "output_type": "execute_result"
    }
   ],
   "source": [
    "from keras.layers import Dense\n",
    "from keras.models import Sequential\n",
    "\n",
    "model = Sequential()\n",
    "model.add(Dense(64, activation='relu', \n",
    "          input_shape=(x_train.shape[1],)))\n",
    "model.add(Dense(64, activation='relu'))\n",
    "model.add(Dense(1))\n",
    "model.compile(optimizer='rmsprop', loss='mse',\n",
    "             metrics=['mae'])\n",
    "\n",
    "model.fit(x_train, x_val)"
   ]
  },
  {
   "cell_type": "markdown",
   "metadata": {},
   "source": [
    "### Model Predictions"
   ]
  },
  {
   "cell_type": "code",
   "execution_count": 30,
   "metadata": {
    "ExecuteTime": {
     "end_time": "2018-03-07T15:17:37.565957Z",
     "start_time": "2018-03-07T07:17:29.218Z"
    },
    "collapsed": false
   },
   "outputs": [],
   "source": [
    "# create predictions dataframe\n",
    "predictions = pd.DataFrame(test_df.index)\n",
    "saleprice = pd.DataFrame(model.predict(X_test),\n",
    "                          columns=['SalePrice'])\n",
    "predictions = pd.concat([predictions, saleprice],axis=1)\n",
    "\n",
    "# View test predictions"
   ]
  },
  {
   "cell_type": "code",
   "execution_count": 31,
   "metadata": {
    "ExecuteTime": {
     "end_time": "2018-03-07T15:17:37.566147Z",
     "start_time": "2018-03-07T07:17:29.221Z"
    },
    "collapsed": false
   },
   "outputs": [
    {
     "data": {
      "text/html": [
       "<div>\n",
       "<style scoped>\n",
       "    .dataframe tbody tr th:only-of-type {\n",
       "        vertical-align: middle;\n",
       "    }\n",
       "\n",
       "    .dataframe tbody tr th {\n",
       "        vertical-align: top;\n",
       "    }\n",
       "\n",
       "    .dataframe thead th {\n",
       "        text-align: right;\n",
       "    }\n",
       "</style>\n",
       "<table border=\"1\" class=\"dataframe\">\n",
       "  <thead>\n",
       "    <tr style=\"text-align: right;\">\n",
       "      <th></th>\n",
       "      <th>SalePrice</th>\n",
       "      <th>Pred SalePrice</th>\n",
       "    </tr>\n",
       "    <tr>\n",
       "      <th>Id</th>\n",
       "      <th></th>\n",
       "      <th></th>\n",
       "    </tr>\n",
       "  </thead>\n",
       "  <tbody>\n",
       "    <tr>\n",
       "      <th>1001</th>\n",
       "      <td>82000.0</td>\n",
       "      <td>141600.844</td>\n",
       "    </tr>\n",
       "    <tr>\n",
       "      <th>1305</th>\n",
       "      <td>130000.0</td>\n",
       "      <td>154286.672</td>\n",
       "    </tr>\n",
       "    <tr>\n",
       "      <th>815</th>\n",
       "      <td>116000.0</td>\n",
       "      <td>154009.984</td>\n",
       "    </tr>\n",
       "  </tbody>\n",
       "</table>\n",
       "</div>"
      ],
      "text/plain": [
       "      SalePrice  Pred SalePrice\n",
       "Id                             \n",
       "1001    82000.0      141600.844\n",
       "1305   130000.0      154286.672\n",
       "815    116000.0      154009.984"
      ]
     },
     "execution_count": 31,
     "metadata": {},
     "output_type": "execute_result"
    }
   ],
   "source": [
    "# View training predictions\n",
    "train_df_prediction = pd.DataFrame(model.predict(X), columns=['Pred SalePrice'])\n",
    "train_df_prediction = train_df_prediction.set_index(train_df.index)\n",
    "train_df_prediction = pd.concat([train_df['SalePrice'], train_df_prediction], axis=1)\n",
    "train_df_prediction.sample(3)"
   ]
  },
  {
   "cell_type": "markdown",
   "metadata": {},
   "source": [
    "### Residual Plot"
   ]
  },
  {
   "cell_type": "code",
   "execution_count": 32,
   "metadata": {
    "ExecuteTime": {
     "end_time": "2018-03-07T15:17:37.566359Z",
     "start_time": "2018-03-07T07:17:29.234Z"
    },
    "collapsed": false
   },
   "outputs": [
    {
     "data": {
      "text/plain": [
       "<matplotlib.axes._subplots.AxesSubplot at 0x11b2b6f60>"
      ]
     },
     "execution_count": 32,
     "metadata": {},
     "output_type": "execute_result"
    },
    {
     "data": {
      "image/png": "[encoded data removed]",
      "text/plain": [
       "<matplotlib.figure.Figure at 0x11b2b6588>"
      ]
     },
     "metadata": {},
     "output_type": "display_data"
    }
   ],
   "source": [
    "# Plotting training data residuals\n",
    "residplot = sns.residplot(\n",
    "    train_df.SalePrice, train_df_prediction['Pred SalePrice'], color='darkred')\n",
    "plt.title('Model Residual Plot')\n",
    "residplot.set(ylim=(-200000, 200000))\n",
    "residplot"
   ]
  },
  {
   "cell_type": "markdown",
   "metadata": {},
   "source": [
    "### Model Crossvalidation"
   ]
  },
  {
   "cell_type": "code",
   "execution_count": 39,
   "metadata": {
    "ExecuteTime": {
     "end_time": "2018-03-07T15:17:37.566554Z",
     "start_time": "2018-03-07T07:17:29.237Z"
    },
    "collapsed": false
   },
   "outputs": [
    {
     "name": "stdout",
     "output_type": "stream",
     "text": [
      "Epoch 1/10\n",
      "1314/1314 [==============================] - 0s 59us/step - loss: 2640842442.8128 - mean_absolute_error: 34046.2374\n",
      "Epoch 2/10\n",
      "1314/1314 [==============================] - 0s 64us/step - loss: 2543145620.0670 - mean_absolute_error: 33276.9018\n",
      "Epoch 3/10\n",
      "1314/1314 [==============================] - 0s 53us/step - loss: 2484376027.1134 - mean_absolute_error: 32684.4861\n",
      "Epoch 4/10\n",
      "1314/1314 [==============================] - 0s 56us/step - loss: 2412941764.7976 - mean_absolute_error: 31710.5389\n",
      "Epoch 5/10\n",
      "1314/1314 [==============================] - 0s 61us/step - loss: 2337931603.2511 - mean_absolute_error: 30960.1069\n",
      "Epoch 6/10\n",
      "1314/1314 [==============================] - 0s 60us/step - loss: 2260036992.7306 - mean_absolute_error: 30351.1128\n",
      "Epoch 7/10\n",
      "1314/1314 [==============================] - 0s 53us/step - loss: 2231173484.0791 - mean_absolute_error: 29792.2922\n",
      "Epoch 8/10\n",
      "1314/1314 [==============================] - 0s 54us/step - loss: 2194313026.9467 - mean_absolute_error: 29257.1236\n",
      "Epoch 9/10\n",
      "1314/1314 [==============================] - 0s 64us/step - loss: 2137502807.3790 - mean_absolute_error: 28759.3839\n",
      "Epoch 10/10\n",
      "1314/1314 [==============================] - 0s 54us/step - loss: 2140485944.1096 - mean_absolute_error: 28467.2579\n"
     ]
    },
    {
     "ename": "AttributeError",
     "evalue": "'numpy.ndarray' object has no attribute 'values'",
     "output_type": "error",
     "traceback": [
      "\u001b[0;31m---------------------------------------------------------------------------\u001b[0m",
      "\u001b[0;31mAttributeError\u001b[0m                            Traceback (most recent call last)",
      "\u001b[0;32m<ipython-input-39-2fafa9aa64c3>\u001b[0m in \u001b[0;36m<module>\u001b[0;34m()\u001b[0m\n\u001b[1;32m     11\u001b[0m     \u001b[0mmodel\u001b[0m\u001b[0;34m.\u001b[0m\u001b[0mfit\u001b[0m\u001b[0;34m(\u001b[0m\u001b[0mX_train\u001b[0m\u001b[0;34m,\u001b[0m \u001b[0my_train\u001b[0m\u001b[0;34m)\u001b[0m\u001b[0;34m\u001b[0m\u001b[0m\n\u001b[1;32m     12\u001b[0m \u001b[0;34m\u001b[0m\u001b[0m\n\u001b[0;32m---> 13\u001b[0;31m     \u001b[0my_pred\u001b[0m \u001b[0;34m=\u001b[0m \u001b[0mpd\u001b[0m\u001b[0;34m.\u001b[0m\u001b[0mSeries\u001b[0m\u001b[0;34m(\u001b[0m\u001b[0mmodel\u001b[0m\u001b[0;34m.\u001b[0m\u001b[0mpredict\u001b[0m\u001b[0;34m(\u001b[0m\u001b[0mX_test\u001b[0m\u001b[0;34m.\u001b[0m\u001b[0mvalues\u001b[0m\u001b[0;34m)\u001b[0m\u001b[0;34m)\u001b[0m\u001b[0;34m\u001b[0m\u001b[0m\n\u001b[0m\u001b[1;32m     14\u001b[0m     \u001b[0my_test\u001b[0m \u001b[0;34m=\u001b[0m \u001b[0mpd\u001b[0m\u001b[0;34m.\u001b[0m\u001b[0mSeries\u001b[0m\u001b[0;34m(\u001b[0m\u001b[0my_test\u001b[0m\u001b[0;34m)\u001b[0m\u001b[0;34m\u001b[0m\u001b[0m\n\u001b[1;32m     15\u001b[0m \u001b[0;34m\u001b[0m\u001b[0m\n",
      "\u001b[0;31mAttributeError\u001b[0m: 'numpy.ndarray' object has no attribute 'values'"
     ]
    }
   ],
   "source": [
    "# Creating list to store KFold scores\n",
    "scores = list()\n",
    "\n",
    "# Retrieve KFold scorse on test data, 10 folds\n",
    "kf = KFold(n_splits=10)\n",
    "for train_index, test_index in kf.split(X):\n",
    "\n",
    "    X_train, X_test = X[train_index], X[test_index]\n",
    "    y_train, y_test = y[train_index], y[test_index]\n",
    "\n",
    "    model.fit(X_train, y_train)\n",
    "\n",
    "    y_pred = pd.Series(model.predict(X_test))\n",
    "    y_test = pd.Series(y_test)\n",
    "\n",
    "    rmse = sqrt(mean_squared_error(np.log(y_test), np.log(np.abs(y_pred))))\n",
    "\n",
    "    scores.append(rmse)\n",
    "\n",
    "# Mean Logged RMSE Evaulation metric for our model\n",
    "scores = pd.Series(scores, name='Scores')\n",
    "print('Logged RMSE:', round(scores.mean(),4))"
   ]
  },
  {
   "cell_type": "code",
   "execution_count": 38,
   "metadata": {},
   "outputs": [
    {
     "data": {
      "text/plain": [
       "array([[  856.,   854.,     0., ...,     0.,     0.,     0.],\n",
       "       [ 1262.,     0.,     0., ...,     0.,     0.,     0.],\n",
       "       [  920.,   866.,     0., ...,     0.,     0.,     0.],\n",
       "       ..., \n",
       "       [ 1501.,     0.,     0., ...,     0.,     0.,     0.],\n",
       "       [ 1728.,     0.,     0., ...,     0.,     0.,     0.],\n",
       "       [  970.,   739.,     0., ...,     0.,     0.,     0.]])"
      ]
     },
     "execution_count": 38,
     "metadata": {},
     "output_type": "execute_result"
    }
   ],
   "source": [
    "X_test"
   ]
  },
  {
   "cell_type": "markdown",
   "metadata": {},
   "source": [
    "### Export Results"
   ]
  },
  {
   "cell_type": "code",
   "execution_count": null,
   "metadata": {
    "ExecuteTime": {
     "end_time": "2018-03-07T15:17:37.566748Z",
     "start_time": "2018-03-07T07:17:29.238Z"
    },
    "collapsed": false
   },
   "outputs": [],
   "source": [
    "# Exporting data without index\n",
    "predictions.to_csv('Submissions/rfg_predicition.csv', index=False)"
   ]
  },
  {
   "cell_type": "markdown",
   "metadata": {},
   "source": [
    "### Accuracy Scores"
   ]
  },
  {
   "cell_type": "markdown",
   "metadata": {},
   "source": [
    "<br>Feature Enginnering 1 - RMSE: 0.1529\n",
    "<br>Feature Enginnering 2 - RMSE: 0.1489\n",
    "<br>Feature Enginnering 3 - RMSE: 0.1503"
   ]
  },
  {
   "cell_type": "markdown",
   "metadata": {},
   "source": [
    "### Kaggle Scores\n",
    "\n",
    "<br>Feature Engineering 1 - RMSE: 0.15486\n",
    "<br>Feature Engineering 2 - RMSE: 0.15934\n",
    "<br>Feature Enginnering 3 - RMSE: 0.15565"
   ]
  }
 ],
 "metadata": {
  "kernelspec": {
   "display_name": "Python 3",
   "language": "python",
   "name": "python3"
  },
  "language_info": {
   "codemirror_mode": {
    "name": "ipython",
    "version": 3
   },
   "file_extension": ".py",
   "mimetype": "text/x-python",
   "name": "python",
   "nbconvert_exporter": "python",
   "pygments_lexer": "ipython3",
   "version": "3.6.2"
  }
 },
 "nbformat": 4,
 "nbformat_minor": 2
}
