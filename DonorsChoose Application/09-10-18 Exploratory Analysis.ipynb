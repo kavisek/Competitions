{
 "cells": [
  {
   "cell_type": "markdown",
   "metadata": {},
   "source": [
    "# Exploratory Analysis"
   ]
  },
  {
   "cell_type": "markdown",
   "metadata": {},
   "source": [
    "### Import Preliminaries"
   ]
  },
  {
   "cell_type": "code",
   "execution_count": 2,
   "metadata": {},
   "outputs": [],
   "source": [
    "%matplotlib inline\n",
    "import pandas as pd\n",
    "import numpy as np\n",
    "import seaborn as sns\n",
    "import matplotlib.pyplot as plt\n",
    "\n",
    "test_df = pd.read_csv('Data/test.csv', low_memory=False,\n",
    "                     parse_dates=['project_submitted_datetime'])\n",
    "train_df = pd.read_csv('Data/train.csv', low_memory=False, \n",
    "                       parse_dates=['project_submitted_datetime'])\n",
    "\n",
    "dfs = [test_df, train_df]\n",
    "\n",
    "# Extending times features\n",
    "for df in dfs:\n",
    "    df['year'] = df['project_submitted_datetime'].dt.year.astype(int)\n",
    "    df['month'] = df['project_submitted_datetime'].dt.month.astype(int)\n",
    "    df['day'] = df['project_submitted_datetime'].dt.day.astype(int)\n",
    "    df['hour'] = df['project_submitted_datetime'].dt.hour.astype(int)\n",
    "    "
   ]
  },
  {
   "cell_type": "code",
   "execution_count": 3,
   "metadata": {},
   "outputs": [
    {
     "name": "stdout",
     "output_type": "stream",
     "text": [
      "<class 'pandas.core.frame.DataFrame'>\n",
      "RangeIndex: 182080 entries, 0 to 182079\n",
      "Data columns (total 20 columns):\n",
      "id                                              182080 non-null object\n",
      "teacher_id                                      182080 non-null object\n",
      "teacher_prefix                                  182076 non-null object\n",
      "school_state                                    182080 non-null object\n",
      "project_submitted_datetime                      182080 non-null datetime64[ns]\n",
      "project_grade_category                          182080 non-null object\n",
      "project_subject_categories                      182080 non-null object\n",
      "project_subject_subcategories                   182080 non-null object\n",
      "project_title                                   182080 non-null object\n",
      "project_essay_1                                 182080 non-null object\n",
      "project_essay_2                                 182080 non-null object\n",
      "project_essay_3                                 6374 non-null object\n",
      "project_essay_4                                 6374 non-null object\n",
      "project_resource_summary                        182080 non-null object\n",
      "teacher_number_of_previously_posted_projects    182080 non-null int64\n",
      "project_is_approved                             182080 non-null int64\n",
      "year                                            182080 non-null int64\n",
      "month                                           182080 non-null int64\n",
      "day                                             182080 non-null int64\n",
      "hour                                            182080 non-null int64\n",
      "dtypes: datetime64[ns](1), int64(6), object(13)\n",
      "memory usage: 27.8+ MB\n"
     ]
    }
   ],
   "source": [
    "train_df.info()"
   ]
  },
  {
   "cell_type": "code",
   "execution_count": 4,
   "metadata": {},
   "outputs": [
    {
     "name": "stdout",
     "output_type": "stream",
     "text": [
      "<class 'pandas.core.frame.DataFrame'>\n",
      "RangeIndex: 78035 entries, 0 to 78034\n",
      "Data columns (total 19 columns):\n",
      "id                                              78035 non-null object\n",
      "teacher_id                                      78035 non-null object\n",
      "teacher_prefix                                  78034 non-null object\n",
      "school_state                                    78035 non-null object\n",
      "project_submitted_datetime                      78035 non-null datetime64[ns]\n",
      "project_grade_category                          78035 non-null object\n",
      "project_subject_categories                      78035 non-null object\n",
      "project_subject_subcategories                   78035 non-null object\n",
      "project_title                                   78035 non-null object\n",
      "project_essay_1                                 78035 non-null object\n",
      "project_essay_2                                 78035 non-null object\n",
      "project_essay_3                                 2704 non-null object\n",
      "project_essay_4                                 2704 non-null object\n",
      "project_resource_summary                        78035 non-null object\n",
      "teacher_number_of_previously_posted_projects    78035 non-null int64\n",
      "year                                            78035 non-null int64\n",
      "month                                           78035 non-null int64\n",
      "day                                             78035 non-null int64\n",
      "hour                                            78035 non-null int64\n",
      "dtypes: datetime64[ns](1), int64(5), object(13)\n",
      "memory usage: 11.3+ MB\n"
     ]
    }
   ],
   "source": [
    "test_df.info()"
   ]
  },
  {
   "cell_type": "markdown",
   "metadata": {},
   "source": [
    "### View Sample Submissionm"
   ]
  },
  {
   "cell_type": "code",
   "execution_count": 5,
   "metadata": {},
   "outputs": [
    {
     "data": {
      "text/html": [
       "<div>\n",
       "<style scoped>\n",
       "    .dataframe tbody tr th:only-of-type {\n",
       "        vertical-align: middle;\n",
       "    }\n",
       "\n",
       "    .dataframe tbody tr th {\n",
       "        vertical-align: top;\n",
       "    }\n",
       "\n",
       "    .dataframe thead th {\n",
       "        text-align: right;\n",
       "    }\n",
       "</style>\n",
       "<table border=\"1\" class=\"dataframe\">\n",
       "  <thead>\n",
       "    <tr style=\"text-align: right;\">\n",
       "      <th></th>\n",
       "      <th>id</th>\n",
       "      <th>project_is_approved</th>\n",
       "    </tr>\n",
       "  </thead>\n",
       "  <tbody>\n",
       "    <tr>\n",
       "      <th>0</th>\n",
       "      <td>p233245</td>\n",
       "      <td>0.847682</td>\n",
       "    </tr>\n",
       "    <tr>\n",
       "      <th>1</th>\n",
       "      <td>p096795</td>\n",
       "      <td>0.847682</td>\n",
       "    </tr>\n",
       "    <tr>\n",
       "      <th>2</th>\n",
       "      <td>p236235</td>\n",
       "      <td>0.847682</td>\n",
       "    </tr>\n",
       "    <tr>\n",
       "      <th>3</th>\n",
       "      <td>p233680</td>\n",
       "      <td>0.847682</td>\n",
       "    </tr>\n",
       "    <tr>\n",
       "      <th>4</th>\n",
       "      <td>p171879</td>\n",
       "      <td>0.847682</td>\n",
       "    </tr>\n",
       "  </tbody>\n",
       "</table>\n",
       "</div>"
      ],
      "text/plain": [
       "        id  project_is_approved\n",
       "0  p233245             0.847682\n",
       "1  p096795             0.847682\n",
       "2  p236235             0.847682\n",
       "3  p233680             0.847682\n",
       "4  p171879             0.847682"
      ]
     },
     "execution_count": 5,
     "metadata": {},
     "output_type": "execute_result"
    }
   ],
   "source": [
    "sample = pd.read_csv('Data/sample_submission.csv')\n",
    "sample.head(5)"
   ]
  },
  {
   "cell_type": "markdown",
   "metadata": {},
   "source": [
    "### View Testing Data"
   ]
  },
  {
   "cell_type": "code",
   "execution_count": null,
   "metadata": {},
   "outputs": [],
   "source": [
    "train_df.tial"
   ]
  },
  {
   "cell_type": "code",
   "execution_count": 32,
   "metadata": {},
   "outputs": [
    {
     "data": {
      "text/html": [
       "<div>\n",
       "<style scoped>\n",
       "    .dataframe tbody tr th:only-of-type {\n",
       "        vertical-align: middle;\n",
       "    }\n",
       "\n",
       "    .dataframe tbody tr th {\n",
       "        vertical-align: top;\n",
       "    }\n",
       "\n",
       "    .dataframe thead th {\n",
       "        text-align: right;\n",
       "    }\n",
       "</style>\n",
       "<table border=\"1\" class=\"dataframe\">\n",
       "  <thead>\n",
       "    <tr style=\"text-align: right;\">\n",
       "      <th></th>\n",
       "      <th>id</th>\n",
       "      <th>teacher_id</th>\n",
       "      <th>teacher_prefix</th>\n",
       "      <th>school_state</th>\n",
       "      <th>project_submitted_datetime</th>\n",
       "      <th>project_grade_category</th>\n",
       "      <th>project_subject_categories</th>\n",
       "      <th>project_subject_subcategories</th>\n",
       "      <th>project_title</th>\n",
       "      <th>project_essay_1</th>\n",
       "      <th>project_essay_2</th>\n",
       "      <th>project_essay_3</th>\n",
       "      <th>project_essay_4</th>\n",
       "      <th>project_resource_summary</th>\n",
       "      <th>teacher_number_of_previously_posted_projects</th>\n",
       "      <th>year</th>\n",
       "      <th>month</th>\n",
       "      <th>day</th>\n",
       "      <th>hour</th>\n",
       "    </tr>\n",
       "  </thead>\n",
       "  <tbody>\n",
       "    <tr>\n",
       "      <th>78025</th>\n",
       "      <td>p180965</td>\n",
       "      <td>6d913a1c041a8a08d4336962ff52ed7b</td>\n",
       "      <td>Mrs.</td>\n",
       "      <td>OH</td>\n",
       "      <td>2017-04-18 22:23:45</td>\n",
       "      <td>Grades 3-5</td>\n",
       "      <td>Literacy &amp; Language</td>\n",
       "      <td>ESL, Literacy</td>\n",
       "      <td>How About Them Apples!</td>\n",
       "      <td>Scranton School is a Title I school with 475 P...</td>\n",
       "      <td>I have been fortunate to have two Donor's Choo...</td>\n",
       "      <td>NaN</td>\n",
       "      <td>NaN</td>\n",
       "      <td>My students need a television to be used to sh...</td>\n",
       "      <td>3</td>\n",
       "      <td>2017</td>\n",
       "      <td>4</td>\n",
       "      <td>18</td>\n",
       "      <td>22</td>\n",
       "    </tr>\n",
       "    <tr>\n",
       "      <th>78026</th>\n",
       "      <td>p086706</td>\n",
       "      <td>50a05ac7befa62a82068f4635047102a</td>\n",
       "      <td>Mrs.</td>\n",
       "      <td>OR</td>\n",
       "      <td>2017-04-20 15:09:26</td>\n",
       "      <td>Grades 9-12</td>\n",
       "      <td>Math &amp; Science</td>\n",
       "      <td>Mathematics</td>\n",
       "      <td>Chrome Books for HS Math Ed!</td>\n",
       "      <td>Students in my class struggle to learn algebra...</td>\n",
       "      <td>With chrome books in the classroom my students...</td>\n",
       "      <td>NaN</td>\n",
       "      <td>NaN</td>\n",
       "      <td>My students need equity in access to technolog...</td>\n",
       "      <td>0</td>\n",
       "      <td>2017</td>\n",
       "      <td>4</td>\n",
       "      <td>20</td>\n",
       "      <td>15</td>\n",
       "    </tr>\n",
       "    <tr>\n",
       "      <th>78027</th>\n",
       "      <td>p007537</td>\n",
       "      <td>40b17ffde813bc8bcc4fd67c39bfbd6e</td>\n",
       "      <td>Ms.</td>\n",
       "      <td>NJ</td>\n",
       "      <td>2017-04-26 15:11:32</td>\n",
       "      <td>Grades 3-5</td>\n",
       "      <td>Literacy &amp; Language, Math &amp; Science</td>\n",
       "      <td>Literature &amp; Writing, Mathematics</td>\n",
       "      <td>Becoming Chrome Experts!</td>\n",
       "      <td>My students come from different countries in S...</td>\n",
       "      <td>Chromebooks will give my students an opportuni...</td>\n",
       "      <td>NaN</td>\n",
       "      <td>NaN</td>\n",
       "      <td>My students need 2 Chromebooks for more studen...</td>\n",
       "      <td>6</td>\n",
       "      <td>2017</td>\n",
       "      <td>4</td>\n",
       "      <td>26</td>\n",
       "      <td>15</td>\n",
       "    </tr>\n",
       "    <tr>\n",
       "      <th>78028</th>\n",
       "      <td>p135892</td>\n",
       "      <td>bd6bcbd11ee552778e59849100db3b0b</td>\n",
       "      <td>Mrs.</td>\n",
       "      <td>IL</td>\n",
       "      <td>2017-04-11 16:46:28</td>\n",
       "      <td>Grades 3-5</td>\n",
       "      <td>Literacy &amp; Language, Music &amp; The Arts</td>\n",
       "      <td>Literature &amp; Writing, Visual Arts</td>\n",
       "      <td>Beautiful Bulletin Boards &amp; a Happy Birthday T...</td>\n",
       "      <td>As a teacher in a low-income/high poverty scho...</td>\n",
       "      <td>My students are always working hard creating p...</td>\n",
       "      <td>NaN</td>\n",
       "      <td>NaN</td>\n",
       "      <td>My students need borders and fadeless paper, C...</td>\n",
       "      <td>31</td>\n",
       "      <td>2017</td>\n",
       "      <td>4</td>\n",
       "      <td>11</td>\n",
       "      <td>16</td>\n",
       "    </tr>\n",
       "    <tr>\n",
       "      <th>78029</th>\n",
       "      <td>p089840</td>\n",
       "      <td>181dd0723fcd14f6c00dab65b979f965</td>\n",
       "      <td>Mrs.</td>\n",
       "      <td>NC</td>\n",
       "      <td>2017-04-04 21:00:55</td>\n",
       "      <td>Grades PreK-2</td>\n",
       "      <td>Special Needs</td>\n",
       "      <td>Special Needs</td>\n",
       "      <td>We Like to Move It...Move It! Ergonomic Balanc...</td>\n",
       "      <td>I have a very diverse group of students from m...</td>\n",
       "      <td>A common misconception is movement while learn...</td>\n",
       "      <td>NaN</td>\n",
       "      <td>NaN</td>\n",
       "      <td>My students need flexible seating options that...</td>\n",
       "      <td>5</td>\n",
       "      <td>2017</td>\n",
       "      <td>4</td>\n",
       "      <td>4</td>\n",
       "      <td>21</td>\n",
       "    </tr>\n",
       "    <tr>\n",
       "      <th>78030</th>\n",
       "      <td>p183993</td>\n",
       "      <td>be39c3d9b26cbb91f20435ba45e8451e</td>\n",
       "      <td>Mrs.</td>\n",
       "      <td>AL</td>\n",
       "      <td>2017-04-07 07:48:40</td>\n",
       "      <td>Grades PreK-2</td>\n",
       "      <td>Applied Learning, Literacy &amp; Language</td>\n",
       "      <td>Early Development, Literature &amp; Writing</td>\n",
       "      <td>iPad Intelligence</td>\n",
       "      <td>I teach a diverse group of creative kindergart...</td>\n",
       "      <td>My students will use the Apple iPad mini durin...</td>\n",
       "      <td>NaN</td>\n",
       "      <td>NaN</td>\n",
       "      <td>My students need one iPad mini to enhance thei...</td>\n",
       "      <td>14</td>\n",
       "      <td>2017</td>\n",
       "      <td>4</td>\n",
       "      <td>7</td>\n",
       "      <td>7</td>\n",
       "    </tr>\n",
       "    <tr>\n",
       "      <th>78031</th>\n",
       "      <td>p116343</td>\n",
       "      <td>90957869296e26198b1f162f169f8a55</td>\n",
       "      <td>Ms.</td>\n",
       "      <td>NM</td>\n",
       "      <td>2017-04-25 17:46:26</td>\n",
       "      <td>Grades PreK-2</td>\n",
       "      <td>Warmth, Care &amp; Hunger</td>\n",
       "      <td>Warmth, Care &amp; Hunger</td>\n",
       "      <td>Clean Clothes Center- Finishing the Cycle</td>\n",
       "      <td>Many of our families do not have access to was...</td>\n",
       "      <td>This clothes dryer will allow students that ha...</td>\n",
       "      <td>NaN</td>\n",
       "      <td>NaN</td>\n",
       "      <td>My students need a clothes dryer to supplement...</td>\n",
       "      <td>1</td>\n",
       "      <td>2017</td>\n",
       "      <td>4</td>\n",
       "      <td>25</td>\n",
       "      <td>17</td>\n",
       "    </tr>\n",
       "    <tr>\n",
       "      <th>78032</th>\n",
       "      <td>p210728</td>\n",
       "      <td>692376a473aaf753890e329081b5787c</td>\n",
       "      <td>Mrs.</td>\n",
       "      <td>CA</td>\n",
       "      <td>2017-04-17 17:53:12</td>\n",
       "      <td>Grades 6-8</td>\n",
       "      <td>Literacy &amp; Language</td>\n",
       "      <td>Literacy, Literature &amp; Writing</td>\n",
       "      <td>Everyday Authors Among Us</td>\n",
       "      <td>My 6th grade students are a lively bunch of in...</td>\n",
       "      <td>Every year, my 6th grade students write and pu...</td>\n",
       "      <td>NaN</td>\n",
       "      <td>NaN</td>\n",
       "      <td>My students need a variety of materials to use...</td>\n",
       "      <td>4</td>\n",
       "      <td>2017</td>\n",
       "      <td>4</td>\n",
       "      <td>17</td>\n",
       "      <td>17</td>\n",
       "    </tr>\n",
       "    <tr>\n",
       "      <th>78033</th>\n",
       "      <td>p060531</td>\n",
       "      <td>0fcaec76e9ea1730e81f2ca8eae5891b</td>\n",
       "      <td>Mrs.</td>\n",
       "      <td>OR</td>\n",
       "      <td>2017-04-19 12:11:59</td>\n",
       "      <td>Grades 3-5</td>\n",
       "      <td>Warmth, Care &amp; Hunger</td>\n",
       "      <td>Warmth, Care &amp; Hunger</td>\n",
       "      <td>Coat Lockers for Our Classroom!</td>\n",
       "      <td>In our classroom students celebrate their indi...</td>\n",
       "      <td>At this time, my students place their personal...</td>\n",
       "      <td>NaN</td>\n",
       "      <td>NaN</td>\n",
       "      <td>My students need coat lockers, so they have a ...</td>\n",
       "      <td>9</td>\n",
       "      <td>2017</td>\n",
       "      <td>4</td>\n",
       "      <td>19</td>\n",
       "      <td>12</td>\n",
       "    </tr>\n",
       "    <tr>\n",
       "      <th>78034</th>\n",
       "      <td>p087783</td>\n",
       "      <td>d3fd1b7b0efff1eddbd3fbfe4c00711e</td>\n",
       "      <td>Mrs.</td>\n",
       "      <td>IN</td>\n",
       "      <td>2017-04-27 19:50:35</td>\n",
       "      <td>Grades 3-5</td>\n",
       "      <td>Literacy &amp; Language, Math &amp; Science</td>\n",
       "      <td>Literacy, Mathematics</td>\n",
       "      <td>A Coffee Shop Classroom</td>\n",
       "      <td>I am a teacher in a Title 1 K-5 elementary sch...</td>\n",
       "      <td>I am gradually switching my classroom from tra...</td>\n",
       "      <td>NaN</td>\n",
       "      <td>NaN</td>\n",
       "      <td>My students need flexible seating arrangements...</td>\n",
       "      <td>0</td>\n",
       "      <td>2017</td>\n",
       "      <td>4</td>\n",
       "      <td>27</td>\n",
       "      <td>19</td>\n",
       "    </tr>\n",
       "  </tbody>\n",
       "</table>\n",
       "</div>"
      ],
      "text/plain": [
       "            id                        teacher_id teacher_prefix school_state  \\\n",
       "78025  p180965  6d913a1c041a8a08d4336962ff52ed7b           Mrs.           OH   \n",
       "78026  p086706  50a05ac7befa62a82068f4635047102a           Mrs.           OR   \n",
       "78027  p007537  40b17ffde813bc8bcc4fd67c39bfbd6e            Ms.           NJ   \n",
       "78028  p135892  bd6bcbd11ee552778e59849100db3b0b           Mrs.           IL   \n",
       "78029  p089840  181dd0723fcd14f6c00dab65b979f965           Mrs.           NC   \n",
       "78030  p183993  be39c3d9b26cbb91f20435ba45e8451e           Mrs.           AL   \n",
       "78031  p116343  90957869296e26198b1f162f169f8a55            Ms.           NM   \n",
       "78032  p210728  692376a473aaf753890e329081b5787c           Mrs.           CA   \n",
       "78033  p060531  0fcaec76e9ea1730e81f2ca8eae5891b           Mrs.           OR   \n",
       "78034  p087783  d3fd1b7b0efff1eddbd3fbfe4c00711e           Mrs.           IN   \n",
       "\n",
       "      project_submitted_datetime project_grade_category  \\\n",
       "78025        2017-04-18 22:23:45             Grades 3-5   \n",
       "78026        2017-04-20 15:09:26            Grades 9-12   \n",
       "78027        2017-04-26 15:11:32             Grades 3-5   \n",
       "78028        2017-04-11 16:46:28             Grades 3-5   \n",
       "78029        2017-04-04 21:00:55          Grades PreK-2   \n",
       "78030        2017-04-07 07:48:40          Grades PreK-2   \n",
       "78031        2017-04-25 17:46:26          Grades PreK-2   \n",
       "78032        2017-04-17 17:53:12             Grades 6-8   \n",
       "78033        2017-04-19 12:11:59             Grades 3-5   \n",
       "78034        2017-04-27 19:50:35             Grades 3-5   \n",
       "\n",
       "                  project_subject_categories  \\\n",
       "78025                    Literacy & Language   \n",
       "78026                         Math & Science   \n",
       "78027    Literacy & Language, Math & Science   \n",
       "78028  Literacy & Language, Music & The Arts   \n",
       "78029                          Special Needs   \n",
       "78030  Applied Learning, Literacy & Language   \n",
       "78031                  Warmth, Care & Hunger   \n",
       "78032                    Literacy & Language   \n",
       "78033                  Warmth, Care & Hunger   \n",
       "78034    Literacy & Language, Math & Science   \n",
       "\n",
       "                 project_subject_subcategories  \\\n",
       "78025                            ESL, Literacy   \n",
       "78026                              Mathematics   \n",
       "78027        Literature & Writing, Mathematics   \n",
       "78028        Literature & Writing, Visual Arts   \n",
       "78029                            Special Needs   \n",
       "78030  Early Development, Literature & Writing   \n",
       "78031                    Warmth, Care & Hunger   \n",
       "78032           Literacy, Literature & Writing   \n",
       "78033                    Warmth, Care & Hunger   \n",
       "78034                    Literacy, Mathematics   \n",
       "\n",
       "                                           project_title  \\\n",
       "78025                             How About Them Apples!   \n",
       "78026                       Chrome Books for HS Math Ed!   \n",
       "78027                           Becoming Chrome Experts!   \n",
       "78028  Beautiful Bulletin Boards & a Happy Birthday T...   \n",
       "78029  We Like to Move It...Move It! Ergonomic Balanc...   \n",
       "78030                                  iPad Intelligence   \n",
       "78031          Clean Clothes Center- Finishing the Cycle   \n",
       "78032                          Everyday Authors Among Us   \n",
       "78033                    Coat Lockers for Our Classroom!   \n",
       "78034                            A Coffee Shop Classroom   \n",
       "\n",
       "                                         project_essay_1  \\\n",
       "78025  Scranton School is a Title I school with 475 P...   \n",
       "78026  Students in my class struggle to learn algebra...   \n",
       "78027  My students come from different countries in S...   \n",
       "78028  As a teacher in a low-income/high poverty scho...   \n",
       "78029  I have a very diverse group of students from m...   \n",
       "78030  I teach a diverse group of creative kindergart...   \n",
       "78031  Many of our families do not have access to was...   \n",
       "78032  My 6th grade students are a lively bunch of in...   \n",
       "78033  In our classroom students celebrate their indi...   \n",
       "78034  I am a teacher in a Title 1 K-5 elementary sch...   \n",
       "\n",
       "                                         project_essay_2 project_essay_3  \\\n",
       "78025  I have been fortunate to have two Donor's Choo...             NaN   \n",
       "78026  With chrome books in the classroom my students...             NaN   \n",
       "78027  Chromebooks will give my students an opportuni...             NaN   \n",
       "78028  My students are always working hard creating p...             NaN   \n",
       "78029  A common misconception is movement while learn...             NaN   \n",
       "78030  My students will use the Apple iPad mini durin...             NaN   \n",
       "78031  This clothes dryer will allow students that ha...             NaN   \n",
       "78032  Every year, my 6th grade students write and pu...             NaN   \n",
       "78033  At this time, my students place their personal...             NaN   \n",
       "78034  I am gradually switching my classroom from tra...             NaN   \n",
       "\n",
       "      project_essay_4                           project_resource_summary  \\\n",
       "78025             NaN  My students need a television to be used to sh...   \n",
       "78026             NaN  My students need equity in access to technolog...   \n",
       "78027             NaN  My students need 2 Chromebooks for more studen...   \n",
       "78028             NaN  My students need borders and fadeless paper, C...   \n",
       "78029             NaN  My students need flexible seating options that...   \n",
       "78030             NaN  My students need one iPad mini to enhance thei...   \n",
       "78031             NaN  My students need a clothes dryer to supplement...   \n",
       "78032             NaN  My students need a variety of materials to use...   \n",
       "78033             NaN  My students need coat lockers, so they have a ...   \n",
       "78034             NaN  My students need flexible seating arrangements...   \n",
       "\n",
       "       teacher_number_of_previously_posted_projects  year  month  day  hour  \n",
       "78025                                             3  2017      4   18    22  \n",
       "78026                                             0  2017      4   20    15  \n",
       "78027                                             6  2017      4   26    15  \n",
       "78028                                            31  2017      4   11    16  \n",
       "78029                                             5  2017      4    4    21  \n",
       "78030                                            14  2017      4    7     7  \n",
       "78031                                             1  2017      4   25    17  \n",
       "78032                                             4  2017      4   17    17  \n",
       "78033                                             9  2017      4   19    12  \n",
       "78034                                             0  2017      4   27    19  "
      ]
     },
     "execution_count": 32,
     "metadata": {},
     "output_type": "execute_result"
    }
   ],
   "source": [
    "test_df.tail(10)"
   ]
  },
  {
   "cell_type": "markdown",
   "metadata": {},
   "source": [
    "### View Training Data"
   ]
  },
  {
   "cell_type": "code",
   "execution_count": 7,
   "metadata": {},
   "outputs": [
    {
     "data": {
      "text/html": [
       "<div>\n",
       "<style scoped>\n",
       "    .dataframe tbody tr th:only-of-type {\n",
       "        vertical-align: middle;\n",
       "    }\n",
       "\n",
       "    .dataframe tbody tr th {\n",
       "        vertical-align: top;\n",
       "    }\n",
       "\n",
       "    .dataframe thead th {\n",
       "        text-align: right;\n",
       "    }\n",
       "</style>\n",
       "<table border=\"1\" class=\"dataframe\">\n",
       "  <thead>\n",
       "    <tr style=\"text-align: right;\">\n",
       "      <th></th>\n",
       "      <th>id</th>\n",
       "      <th>teacher_id</th>\n",
       "      <th>teacher_prefix</th>\n",
       "      <th>school_state</th>\n",
       "      <th>project_submitted_datetime</th>\n",
       "      <th>project_grade_category</th>\n",
       "      <th>project_subject_categories</th>\n",
       "      <th>project_subject_subcategories</th>\n",
       "      <th>project_title</th>\n",
       "      <th>project_essay_1</th>\n",
       "      <th>project_essay_2</th>\n",
       "      <th>project_essay_3</th>\n",
       "      <th>project_essay_4</th>\n",
       "      <th>project_resource_summary</th>\n",
       "      <th>teacher_number_of_previously_posted_projects</th>\n",
       "      <th>project_is_approved</th>\n",
       "      <th>year</th>\n",
       "      <th>month</th>\n",
       "      <th>day</th>\n",
       "      <th>hour</th>\n",
       "    </tr>\n",
       "  </thead>\n",
       "  <tbody>\n",
       "    <tr>\n",
       "      <th>0</th>\n",
       "      <td>p036502</td>\n",
       "      <td>484aaf11257089a66cfedc9461c6bd0a</td>\n",
       "      <td>Ms.</td>\n",
       "      <td>NV</td>\n",
       "      <td>2016-11-18 14:45:59</td>\n",
       "      <td>Grades PreK-2</td>\n",
       "      <td>Literacy &amp; Language</td>\n",
       "      <td>Literacy</td>\n",
       "      <td>Super Sight Word Centers</td>\n",
       "      <td>Most of my kindergarten students come from low...</td>\n",
       "      <td>I currently have a differentiated sight word c...</td>\n",
       "      <td>NaN</td>\n",
       "      <td>NaN</td>\n",
       "      <td>My students need 6 Ipod Nano's to create and d...</td>\n",
       "      <td>26</td>\n",
       "      <td>1</td>\n",
       "      <td>2016</td>\n",
       "      <td>11</td>\n",
       "      <td>18</td>\n",
       "      <td>14</td>\n",
       "    </tr>\n",
       "    <tr>\n",
       "      <th>1</th>\n",
       "      <td>p039565</td>\n",
       "      <td>df72a3ba8089423fa8a94be88060f6ed</td>\n",
       "      <td>Mrs.</td>\n",
       "      <td>GA</td>\n",
       "      <td>2017-04-26 15:57:28</td>\n",
       "      <td>Grades 3-5</td>\n",
       "      <td>Music &amp; The Arts, Health &amp; Sports</td>\n",
       "      <td>Performing Arts, Team Sports</td>\n",
       "      <td>Keep Calm and Dance On</td>\n",
       "      <td>Our elementary school is a culturally rich sch...</td>\n",
       "      <td>We strive to provide our diverse population of...</td>\n",
       "      <td>NaN</td>\n",
       "      <td>NaN</td>\n",
       "      <td>My students need matching shirts to wear for d...</td>\n",
       "      <td>1</td>\n",
       "      <td>0</td>\n",
       "      <td>2017</td>\n",
       "      <td>4</td>\n",
       "      <td>26</td>\n",
       "      <td>15</td>\n",
       "    </tr>\n",
       "    <tr>\n",
       "      <th>2</th>\n",
       "      <td>p233823</td>\n",
       "      <td>a9b876a9252e08a55e3d894150f75ba3</td>\n",
       "      <td>Ms.</td>\n",
       "      <td>UT</td>\n",
       "      <td>2017-01-01 22:57:44</td>\n",
       "      <td>Grades 3-5</td>\n",
       "      <td>Math &amp; Science, Literacy &amp; Language</td>\n",
       "      <td>Applied Sciences, Literature &amp; Writing</td>\n",
       "      <td>Lets 3Doodle to Learn</td>\n",
       "      <td>Hello;\\r\\nMy name is Mrs. Brotherton. I teach ...</td>\n",
       "      <td>We are looking to add some 3Doodler to our cla...</td>\n",
       "      <td>NaN</td>\n",
       "      <td>NaN</td>\n",
       "      <td>My students need the 3doodler. We are an SEM s...</td>\n",
       "      <td>5</td>\n",
       "      <td>1</td>\n",
       "      <td>2017</td>\n",
       "      <td>1</td>\n",
       "      <td>1</td>\n",
       "      <td>22</td>\n",
       "    </tr>\n",
       "    <tr>\n",
       "      <th>3</th>\n",
       "      <td>p185307</td>\n",
       "      <td>525fdbb6ec7f538a48beebaa0a51b24f</td>\n",
       "      <td>Mr.</td>\n",
       "      <td>NC</td>\n",
       "      <td>2016-08-12 15:42:11</td>\n",
       "      <td>Grades 3-5</td>\n",
       "      <td>Health &amp; Sports</td>\n",
       "      <td>Health &amp; Wellness</td>\n",
       "      <td>\\\"Kid Inspired\\\" Equipment to Increase Activit...</td>\n",
       "      <td>My students are the greatest students but are ...</td>\n",
       "      <td>The student's project which is totally \\\"kid-i...</td>\n",
       "      <td>NaN</td>\n",
       "      <td>NaN</td>\n",
       "      <td>My students need balls and other activity equi...</td>\n",
       "      <td>16</td>\n",
       "      <td>0</td>\n",
       "      <td>2016</td>\n",
       "      <td>8</td>\n",
       "      <td>12</td>\n",
       "      <td>15</td>\n",
       "    </tr>\n",
       "    <tr>\n",
       "      <th>4</th>\n",
       "      <td>p013780</td>\n",
       "      <td>a63b5547a7239eae4c1872670848e61a</td>\n",
       "      <td>Mr.</td>\n",
       "      <td>CA</td>\n",
       "      <td>2016-08-06 09:09:11</td>\n",
       "      <td>Grades 6-8</td>\n",
       "      <td>Health &amp; Sports</td>\n",
       "      <td>Health &amp; Wellness</td>\n",
       "      <td>We need clean water for our culinary arts class!</td>\n",
       "      <td>My students are athletes and students who are ...</td>\n",
       "      <td>For some reason in our kitchen the water comes...</td>\n",
       "      <td>NaN</td>\n",
       "      <td>NaN</td>\n",
       "      <td>My students need a water filtration system for...</td>\n",
       "      <td>42</td>\n",
       "      <td>1</td>\n",
       "      <td>2016</td>\n",
       "      <td>8</td>\n",
       "      <td>6</td>\n",
       "      <td>9</td>\n",
       "    </tr>\n",
       "    <tr>\n",
       "      <th>5</th>\n",
       "      <td>p063374</td>\n",
       "      <td>403c6783e9286e51ab318fba40f8d729</td>\n",
       "      <td>Mrs.</td>\n",
       "      <td>DE</td>\n",
       "      <td>2016-11-05 10:01:51</td>\n",
       "      <td>Grades PreK-2</td>\n",
       "      <td>Applied Learning, Literacy &amp; Language</td>\n",
       "      <td>Character Education, Literature &amp; Writing</td>\n",
       "      <td>Need to Reach Our Virtual  Mentors!!!</td>\n",
       "      <td>My kids tell me each day that they want to mak...</td>\n",
       "      <td>I started a program called Telementoring in ho...</td>\n",
       "      <td>NaN</td>\n",
       "      <td>NaN</td>\n",
       "      <td>My students need tablets  in order to communic...</td>\n",
       "      <td>0</td>\n",
       "      <td>1</td>\n",
       "      <td>2016</td>\n",
       "      <td>11</td>\n",
       "      <td>5</td>\n",
       "      <td>10</td>\n",
       "    </tr>\n",
       "    <tr>\n",
       "      <th>6</th>\n",
       "      <td>p103285</td>\n",
       "      <td>4e156c5fb3eea2531601c8736f3751a7</td>\n",
       "      <td>Mrs.</td>\n",
       "      <td>MO</td>\n",
       "      <td>2016-08-31 00:30:43</td>\n",
       "      <td>Grades PreK-2</td>\n",
       "      <td>Health &amp; Sports</td>\n",
       "      <td>Health &amp; Wellness</td>\n",
       "      <td>Active Kindergartners</td>\n",
       "      <td>Kindergarten is the new first grade. My studen...</td>\n",
       "      <td>With balance discs and stools as flexible seat...</td>\n",
       "      <td>NaN</td>\n",
       "      <td>NaN</td>\n",
       "      <td>My students need stability stools and inflatab...</td>\n",
       "      <td>1</td>\n",
       "      <td>1</td>\n",
       "      <td>2016</td>\n",
       "      <td>8</td>\n",
       "      <td>31</td>\n",
       "      <td>0</td>\n",
       "    </tr>\n",
       "    <tr>\n",
       "      <th>7</th>\n",
       "      <td>p181781</td>\n",
       "      <td>c71f2ef13b4bc91afac61ca8fd4c0f9f</td>\n",
       "      <td>Mrs.</td>\n",
       "      <td>SC</td>\n",
       "      <td>2016-08-03 13:26:01</td>\n",
       "      <td>Grades PreK-2</td>\n",
       "      <td>Applied Learning, Literacy &amp; Language</td>\n",
       "      <td>Early Development, Literature &amp; Writing</td>\n",
       "      <td>Fabulous Firsties-Wiggling to Learn!</td>\n",
       "      <td>First graders are fantastic! They are excited ...</td>\n",
       "      <td>First graders love learning! We need 6 wiggle-...</td>\n",
       "      <td>NaN</td>\n",
       "      <td>NaN</td>\n",
       "      <td>My students need wiggle stools to allow them t...</td>\n",
       "      <td>0</td>\n",
       "      <td>1</td>\n",
       "      <td>2016</td>\n",
       "      <td>8</td>\n",
       "      <td>3</td>\n",
       "      <td>13</td>\n",
       "    </tr>\n",
       "    <tr>\n",
       "      <th>8</th>\n",
       "      <td>p114989</td>\n",
       "      <td>b580c11b1497a0a67317763b7f03eb27</td>\n",
       "      <td>Ms.</td>\n",
       "      <td>IN</td>\n",
       "      <td>2016-09-13 22:35:57</td>\n",
       "      <td>Grades 6-8</td>\n",
       "      <td>Math &amp; Science</td>\n",
       "      <td>Mathematics</td>\n",
       "      <td>Wobble Chairs Help Fidgety Kids Focus</td>\n",
       "      <td>My seventh graders dream big. They can't wait ...</td>\n",
       "      <td>I have used alternative seating in my classroo...</td>\n",
       "      <td>NaN</td>\n",
       "      <td>NaN</td>\n",
       "      <td>My students need seating that allows the most ...</td>\n",
       "      <td>13</td>\n",
       "      <td>1</td>\n",
       "      <td>2016</td>\n",
       "      <td>9</td>\n",
       "      <td>13</td>\n",
       "      <td>22</td>\n",
       "    </tr>\n",
       "    <tr>\n",
       "      <th>9</th>\n",
       "      <td>p191410</td>\n",
       "      <td>2071fb0af994f8f16e7c6ed0f35062a1</td>\n",
       "      <td>Mrs.</td>\n",
       "      <td>IL</td>\n",
       "      <td>2016-09-24 18:38:59</td>\n",
       "      <td>Grades PreK-2</td>\n",
       "      <td>Literacy &amp; Language</td>\n",
       "      <td>Literacy</td>\n",
       "      <td>Snuggle Up With A Good Book</td>\n",
       "      <td>I teach first grade in a small farming town in...</td>\n",
       "      <td>There is nothing better than snuggling up with...</td>\n",
       "      <td>NaN</td>\n",
       "      <td>NaN</td>\n",
       "      <td>My students need 2 youth sized reclining chair...</td>\n",
       "      <td>12</td>\n",
       "      <td>1</td>\n",
       "      <td>2016</td>\n",
       "      <td>9</td>\n",
       "      <td>24</td>\n",
       "      <td>18</td>\n",
       "    </tr>\n",
       "  </tbody>\n",
       "</table>\n",
       "</div>"
      ],
      "text/plain": [
       "        id                        teacher_id teacher_prefix school_state  \\\n",
       "0  p036502  484aaf11257089a66cfedc9461c6bd0a            Ms.           NV   \n",
       "1  p039565  df72a3ba8089423fa8a94be88060f6ed           Mrs.           GA   \n",
       "2  p233823  a9b876a9252e08a55e3d894150f75ba3            Ms.           UT   \n",
       "3  p185307  525fdbb6ec7f538a48beebaa0a51b24f            Mr.           NC   \n",
       "4  p013780  a63b5547a7239eae4c1872670848e61a            Mr.           CA   \n",
       "5  p063374  403c6783e9286e51ab318fba40f8d729           Mrs.           DE   \n",
       "6  p103285  4e156c5fb3eea2531601c8736f3751a7           Mrs.           MO   \n",
       "7  p181781  c71f2ef13b4bc91afac61ca8fd4c0f9f           Mrs.           SC   \n",
       "8  p114989  b580c11b1497a0a67317763b7f03eb27            Ms.           IN   \n",
       "9  p191410  2071fb0af994f8f16e7c6ed0f35062a1           Mrs.           IL   \n",
       "\n",
       "  project_submitted_datetime project_grade_category  \\\n",
       "0        2016-11-18 14:45:59          Grades PreK-2   \n",
       "1        2017-04-26 15:57:28             Grades 3-5   \n",
       "2        2017-01-01 22:57:44             Grades 3-5   \n",
       "3        2016-08-12 15:42:11             Grades 3-5   \n",
       "4        2016-08-06 09:09:11             Grades 6-8   \n",
       "5        2016-11-05 10:01:51          Grades PreK-2   \n",
       "6        2016-08-31 00:30:43          Grades PreK-2   \n",
       "7        2016-08-03 13:26:01          Grades PreK-2   \n",
       "8        2016-09-13 22:35:57             Grades 6-8   \n",
       "9        2016-09-24 18:38:59          Grades PreK-2   \n",
       "\n",
       "              project_subject_categories  \\\n",
       "0                    Literacy & Language   \n",
       "1      Music & The Arts, Health & Sports   \n",
       "2    Math & Science, Literacy & Language   \n",
       "3                        Health & Sports   \n",
       "4                        Health & Sports   \n",
       "5  Applied Learning, Literacy & Language   \n",
       "6                        Health & Sports   \n",
       "7  Applied Learning, Literacy & Language   \n",
       "8                         Math & Science   \n",
       "9                    Literacy & Language   \n",
       "\n",
       "               project_subject_subcategories  \\\n",
       "0                                   Literacy   \n",
       "1               Performing Arts, Team Sports   \n",
       "2     Applied Sciences, Literature & Writing   \n",
       "3                          Health & Wellness   \n",
       "4                          Health & Wellness   \n",
       "5  Character Education, Literature & Writing   \n",
       "6                          Health & Wellness   \n",
       "7    Early Development, Literature & Writing   \n",
       "8                                Mathematics   \n",
       "9                                   Literacy   \n",
       "\n",
       "                                       project_title  \\\n",
       "0                           Super Sight Word Centers   \n",
       "1                             Keep Calm and Dance On   \n",
       "2                              Lets 3Doodle to Learn   \n",
       "3  \\\"Kid Inspired\\\" Equipment to Increase Activit...   \n",
       "4   We need clean water for our culinary arts class!   \n",
       "5              Need to Reach Our Virtual  Mentors!!!   \n",
       "6                              Active Kindergartners   \n",
       "7               Fabulous Firsties-Wiggling to Learn!   \n",
       "8              Wobble Chairs Help Fidgety Kids Focus   \n",
       "9                        Snuggle Up With A Good Book   \n",
       "\n",
       "                                     project_essay_1  \\\n",
       "0  Most of my kindergarten students come from low...   \n",
       "1  Our elementary school is a culturally rich sch...   \n",
       "2  Hello;\\r\\nMy name is Mrs. Brotherton. I teach ...   \n",
       "3  My students are the greatest students but are ...   \n",
       "4  My students are athletes and students who are ...   \n",
       "5  My kids tell me each day that they want to mak...   \n",
       "6  Kindergarten is the new first grade. My studen...   \n",
       "7  First graders are fantastic! They are excited ...   \n",
       "8  My seventh graders dream big. They can't wait ...   \n",
       "9  I teach first grade in a small farming town in...   \n",
       "\n",
       "                                     project_essay_2 project_essay_3  \\\n",
       "0  I currently have a differentiated sight word c...             NaN   \n",
       "1  We strive to provide our diverse population of...             NaN   \n",
       "2  We are looking to add some 3Doodler to our cla...             NaN   \n",
       "3  The student's project which is totally \\\"kid-i...             NaN   \n",
       "4  For some reason in our kitchen the water comes...             NaN   \n",
       "5  I started a program called Telementoring in ho...             NaN   \n",
       "6  With balance discs and stools as flexible seat...             NaN   \n",
       "7  First graders love learning! We need 6 wiggle-...             NaN   \n",
       "8  I have used alternative seating in my classroo...             NaN   \n",
       "9  There is nothing better than snuggling up with...             NaN   \n",
       "\n",
       "  project_essay_4                           project_resource_summary  \\\n",
       "0             NaN  My students need 6 Ipod Nano's to create and d...   \n",
       "1             NaN  My students need matching shirts to wear for d...   \n",
       "2             NaN  My students need the 3doodler. We are an SEM s...   \n",
       "3             NaN  My students need balls and other activity equi...   \n",
       "4             NaN  My students need a water filtration system for...   \n",
       "5             NaN  My students need tablets  in order to communic...   \n",
       "6             NaN  My students need stability stools and inflatab...   \n",
       "7             NaN  My students need wiggle stools to allow them t...   \n",
       "8             NaN  My students need seating that allows the most ...   \n",
       "9             NaN  My students need 2 youth sized reclining chair...   \n",
       "\n",
       "   teacher_number_of_previously_posted_projects  project_is_approved  year  \\\n",
       "0                                            26                    1  2016   \n",
       "1                                             1                    0  2017   \n",
       "2                                             5                    1  2017   \n",
       "3                                            16                    0  2016   \n",
       "4                                            42                    1  2016   \n",
       "5                                             0                    1  2016   \n",
       "6                                             1                    1  2016   \n",
       "7                                             0                    1  2016   \n",
       "8                                            13                    1  2016   \n",
       "9                                            12                    1  2016   \n",
       "\n",
       "   month  day  hour  \n",
       "0     11   18    14  \n",
       "1      4   26    15  \n",
       "2      1    1    22  \n",
       "3      8   12    15  \n",
       "4      8    6     9  \n",
       "5     11    5    10  \n",
       "6      8   31     0  \n",
       "7      8    3    13  \n",
       "8      9   13    22  \n",
       "9      9   24    18  "
      ]
     },
     "execution_count": 7,
     "metadata": {},
     "output_type": "execute_result"
    }
   ],
   "source": [
    "train_df.head(10)"
   ]
  },
  {
   "cell_type": "markdown",
   "metadata": {},
   "source": [
    "### Training Features"
   ]
  },
  {
   "cell_type": "code",
   "execution_count": 8,
   "metadata": {},
   "outputs": [
    {
     "data": {
      "text/plain": [
       "Index(['id', 'teacher_id', 'teacher_prefix', 'school_state',\n",
       "       'project_submitted_datetime', 'project_grade_category',\n",
       "       'project_subject_categories', 'project_subject_subcategories',\n",
       "       'project_title', 'project_essay_1', 'project_essay_2',\n",
       "       'project_essay_3', 'project_essay_4', 'project_resource_summary',\n",
       "       'teacher_number_of_previously_posted_projects', 'project_is_approved',\n",
       "       'year', 'month', 'day', 'hour'],\n",
       "      dtype='object')"
      ]
     },
     "execution_count": 8,
     "metadata": {},
     "output_type": "execute_result"
    }
   ],
   "source": [
    "train_df.columns"
   ]
  },
  {
   "cell_type": "markdown",
   "metadata": {},
   "source": [
    "### Checking Null Values"
   ]
  },
  {
   "cell_type": "code",
   "execution_count": 9,
   "metadata": {},
   "outputs": [
    {
     "data": {
      "text/plain": [
       "id                                                   0\n",
       "teacher_id                                           0\n",
       "teacher_prefix                                       4\n",
       "school_state                                         0\n",
       "project_submitted_datetime                           0\n",
       "project_grade_category                               0\n",
       "project_subject_categories                           0\n",
       "project_subject_subcategories                        0\n",
       "project_title                                        0\n",
       "project_essay_1                                      0\n",
       "project_essay_2                                      0\n",
       "project_essay_3                                 175706\n",
       "project_essay_4                                 175706\n",
       "project_resource_summary                             0\n",
       "teacher_number_of_previously_posted_projects         0\n",
       "project_is_approved                                  0\n",
       "year                                                 0\n",
       "month                                                0\n",
       "day                                                  0\n",
       "hour                                                 0\n",
       "dtype: int64"
      ]
     },
     "execution_count": 9,
     "metadata": {},
     "output_type": "execute_result"
    }
   ],
   "source": [
    "train_df.isnull().sum()"
   ]
  },
  {
   "cell_type": "code",
   "execution_count": 10,
   "metadata": {},
   "outputs": [
    {
     "data": {
      "text/plain": [
       "id                                                  0\n",
       "teacher_id                                          0\n",
       "teacher_prefix                                      1\n",
       "school_state                                        0\n",
       "project_submitted_datetime                          0\n",
       "project_grade_category                              0\n",
       "project_subject_categories                          0\n",
       "project_subject_subcategories                       0\n",
       "project_title                                       0\n",
       "project_essay_1                                     0\n",
       "project_essay_2                                     0\n",
       "project_essay_3                                 75331\n",
       "project_essay_4                                 75331\n",
       "project_resource_summary                            0\n",
       "teacher_number_of_previously_posted_projects        0\n",
       "year                                                0\n",
       "month                                               0\n",
       "day                                                 0\n",
       "hour                                                0\n",
       "dtype: int64"
      ]
     },
     "execution_count": 10,
     "metadata": {},
     "output_type": "execute_result"
    }
   ],
   "source": [
    "test_df.isnull().sum()"
   ]
  },
  {
   "cell_type": "markdown",
   "metadata": {},
   "source": [
    "### Data Shape"
   ]
  },
  {
   "cell_type": "code",
   "execution_count": 11,
   "metadata": {},
   "outputs": [
    {
     "data": {
      "text/plain": [
       "(182080, 20)"
      ]
     },
     "execution_count": 11,
     "metadata": {},
     "output_type": "execute_result"
    }
   ],
   "source": [
    "train_df.shape"
   ]
  },
  {
   "cell_type": "code",
   "execution_count": 12,
   "metadata": {},
   "outputs": [
    {
     "data": {
      "text/plain": [
       "(78035, 19)"
      ]
     },
     "execution_count": 12,
     "metadata": {},
     "output_type": "execute_result"
    }
   ],
   "source": [
    "test_df.shape"
   ]
  },
  {
   "cell_type": "markdown",
   "metadata": {},
   "source": [
    "### Approval Rate"
   ]
  },
  {
   "cell_type": "code",
   "execution_count": 13,
   "metadata": {},
   "outputs": [
    {
     "data": {
      "text/plain": [
       "<matplotlib.axes._subplots.AxesSubplot at 0x118901710>"
      ]
     },
     "execution_count": 13,
     "metadata": {},
     "output_type": "execute_result"
    },
    {
     "data": {
      "image/png": "[encoded data removed]",
      "text/plain": [
       "<matplotlib.figure.Figure at 0x1188dccc0>"
      ]
     },
     "metadata": {},
     "output_type": "display_data"
    }
   ],
   "source": [
    "sns.countplot(train_df.project_is_approved)"
   ]
  },
  {
   "cell_type": "markdown",
   "metadata": {},
   "source": [
    "### Datetime Ranges "
   ]
  },
  {
   "cell_type": "code",
   "execution_count": 14,
   "metadata": {},
   "outputs": [
    {
     "data": {
      "text/plain": [
       "2016    131473\n",
       "2017     50607\n",
       "Name: year, dtype: int64"
      ]
     },
     "execution_count": 14,
     "metadata": {},
     "output_type": "execute_result"
    }
   ],
   "source": [
    "train_df.year.value_counts()"
   ]
  },
  {
   "cell_type": "code",
   "execution_count": 15,
   "metadata": {},
   "outputs": [
    {
     "data": {
      "text/plain": [
       "<matplotlib.axes._subplots.AxesSubplot at 0x119696ba8>"
      ]
     },
     "execution_count": 15,
     "metadata": {},
     "output_type": "execute_result"
    },
    {
     "data": {
      "image/png": "[encoded data removed]",
      "text/plain": [
       "<matplotlib.figure.Figure at 0x1087a3240>"
      ]
     },
     "metadata": {},
     "output_type": "display_data"
    }
   ],
   "source": [
    "train_df.year.hist(color='black')"
   ]
  },
  {
   "cell_type": "code",
   "execution_count": 16,
   "metadata": {},
   "outputs": [
    {
     "data": {
      "text/plain": [
       "<matplotlib.axes._subplots.AxesSubplot at 0x11aa865c0>"
      ]
     },
     "execution_count": 16,
     "metadata": {},
     "output_type": "execute_result"
    },
    {
     "data": {
      "image/png": "[encoded data removed]",
      "text/plain": [
       "<matplotlib.figure.Figure at 0x11970aa90>"
      ]
     },
     "metadata": {},
     "output_type": "display_data"
    }
   ],
   "source": [
    "test_df.year.hist()"
   ]
  },
  {
   "cell_type": "code",
   "execution_count": 17,
   "metadata": {},
   "outputs": [
    {
     "data": {
      "text/plain": [
       "<matplotlib.axes._subplots.AxesSubplot at 0x1146a0e48>"
      ]
     },
     "execution_count": 17,
     "metadata": {},
     "output_type": "execute_result"
    },
    {
     "data": {
      "image/png": "[encoded data removed]",
      "text/plain": [
       "<matplotlib.figure.Figure at 0x11ac771d0>"
      ]
     },
     "metadata": {},
     "output_type": "display_data"
    }
   ],
   "source": [
    "train_df.month.hist(color='black')"
   ]
  },
  {
   "cell_type": "code",
   "execution_count": 18,
   "metadata": {},
   "outputs": [
    {
     "data": {
      "text/plain": [
       "<matplotlib.axes._subplots.AxesSubplot at 0x119ed6cc0>"
      ]
     },
     "execution_count": 18,
     "metadata": {},
     "output_type": "execute_result"
    },
    {
     "data": {
      "image/png": "[encoded data removed]",
      "text/plain": [
       "<matplotlib.figure.Figure at 0x119f107f0>"
      ]
     },
     "metadata": {},
     "output_type": "display_data"
    }
   ],
   "source": [
    "test_df.month.hist()"
   ]
  },
  {
   "cell_type": "code",
   "execution_count": 19,
   "metadata": {},
   "outputs": [
    {
     "data": {
      "text/plain": [
       "<matplotlib.axes._subplots.AxesSubplot at 0x119fb2e48>"
      ]
     },
     "execution_count": 19,
     "metadata": {},
     "output_type": "execute_result"
    },
    {
     "data": {
      "image/png": "[encoded data removed]",
      "text/plain": [
       "<matplotlib.figure.Figure at 0x119f10780>"
      ]
     },
     "metadata": {},
     "output_type": "display_data"
    }
   ],
   "source": [
    "train_df.day.hist(color='black')"
   ]
  },
  {
   "cell_type": "code",
   "execution_count": 20,
   "metadata": {},
   "outputs": [
    {
     "data": {
      "text/plain": [
       "<matplotlib.axes._subplots.AxesSubplot at 0x11ac91ba8>"
      ]
     },
     "execution_count": 20,
     "metadata": {},
     "output_type": "execute_result"
    },
    {
     "data": {
      "image/png": "[encoded data removed]",
      "text/plain": [
       "<matplotlib.figure.Figure at 0x119ee8ef0>"
      ]
     },
     "metadata": {},
     "output_type": "display_data"
    }
   ],
   "source": [
    "test_df.day.hist()"
   ]
  },
  {
   "cell_type": "code",
   "execution_count": 21,
   "metadata": {},
   "outputs": [
    {
     "data": {
      "text/plain": [
       "<matplotlib.axes._subplots.AxesSubplot at 0x11ad59550>"
      ]
     },
     "execution_count": 21,
     "metadata": {},
     "output_type": "execute_result"
    },
    {
     "data": {
      "image/png": "[encoded data removed]",
      "text/plain": [
       "<matplotlib.figure.Figure at 0x11ad40fd0>"
      ]
     },
     "metadata": {},
     "output_type": "display_data"
    }
   ],
   "source": [
    "train_df.hour.hist(color='black')"
   ]
  },
  {
   "cell_type": "code",
   "execution_count": 22,
   "metadata": {},
   "outputs": [
    {
     "data": {
      "text/plain": [
       "<matplotlib.axes._subplots.AxesSubplot at 0x11b2d04a8>"
      ]
     },
     "execution_count": 22,
     "metadata": {},
     "output_type": "execute_result"
    },
    {
     "data": {
      "image/png": "[encoded data removed]",
      "text/plain": [
       "<matplotlib.figure.Figure at 0x11ac99438>"
      ]
     },
     "metadata": {},
     "output_type": "display_data"
    }
   ],
   "source": [
    "test_df.hour.hist()"
   ]
  },
  {
   "cell_type": "markdown",
   "metadata": {},
   "source": [
    "### Previously Posted Project"
   ]
  },
  {
   "cell_type": "code",
   "execution_count": 23,
   "metadata": {},
   "outputs": [
    {
     "data": {
      "text/plain": [
       "<matplotlib.axes._subplots.AxesSubplot at 0x11b615a90>"
      ]
     },
     "execution_count": 23,
     "metadata": {},
     "output_type": "execute_result"
    },
    {
     "data": {
      "image/png": "[encoded data removed]",
      "text/plain": [
       "<matplotlib.figure.Figure at 0x11b3362e8>"
      ]
     },
     "metadata": {},
     "output_type": "display_data"
    }
   ],
   "source": [
    "train_df.teacher_number_of_previously_posted_projects.hist(\n",
    "    color='black')"
   ]
  },
  {
   "cell_type": "code",
   "execution_count": 24,
   "metadata": {},
   "outputs": [
    {
     "data": {
      "text/plain": [
       "<matplotlib.axes._subplots.AxesSubplot at 0x11b6e6f28>"
      ]
     },
     "execution_count": 24,
     "metadata": {},
     "output_type": "execute_result"
    },
    {
     "data": {
      "image/png": "[encoded data removed]",
      "text/plain": [
       "<matplotlib.figure.Figure at 0x11b2d0ac8>"
      ]
     },
     "metadata": {},
     "output_type": "display_data"
    }
   ],
   "source": [
    "test_df.teacher_number_of_previously_posted_projects.hist()"
   ]
  },
  {
   "cell_type": "markdown",
   "metadata": {},
   "source": [
    "### Viewing Essay Title Sample"
   ]
  },
  {
   "cell_type": "code",
   "execution_count": 25,
   "metadata": {},
   "outputs": [
    {
     "data": {
      "text/plain": [
       "array(['Journey into Second Grade!'], dtype=object)"
      ]
     },
     "execution_count": 25,
     "metadata": {},
     "output_type": "execute_result"
    }
   ],
   "source": [
    "train_df.project_title.sample(1).values"
   ]
  },
  {
   "cell_type": "markdown",
   "metadata": {},
   "source": [
    "### Viewing Essay 1 Sample"
   ]
  },
  {
   "cell_type": "code",
   "execution_count": 26,
   "metadata": {},
   "outputs": [
    {
     "data": {
      "text/plain": [
       "array([ \"Every child learns in a unique way, and I want my classroom to reflect that. Differentiation should not end at the learning materials but should also extend to the learning environment: the furniture. Students sit still for too much of their day. It's my goal to change this.\\\\r\\\\nMy students are an energetic bunch of passionate learners. They come into my room every day, eager to transport themselves into the worlds of our stories and to develop their own. Coming from a town of diverse socioeconomic and racial backgrounds, my students thrive in our school where kindness is the key to all decisions.\"], dtype=object)"
      ]
     },
     "execution_count": 26,
     "metadata": {},
     "output_type": "execute_result"
    }
   ],
   "source": [
    "train_df.project_essay_1.sample(1).values"
   ]
  },
  {
   "cell_type": "markdown",
   "metadata": {},
   "source": [
    "### Viewing Essay 2 Sample"
   ]
  },
  {
   "cell_type": "code",
   "execution_count": 27,
   "metadata": {},
   "outputs": [
    {
     "data": {
      "text/plain": [
       "array([ 'My students come to school eager to learn everyday. Only one or two have access to the internet at home and they are naturally curious about the world. We live only 20 minutes from the beach, but some have never been. They can not image the world and the experiences they can have. These ipads will open doors that were previously shut. They will also allow my higher learners to add on to their learning, while helping my Spanish and lower level learners fill in the gaps.\\\\r\\\\n\\\\r\\\\nOur class motto is \\\\\"Today is a Great Day to Learn Something New.\\\\\"\\\\r\\\\n\\\\r\\\\nThe iPads will be used to everyday and in many different ways. We can use them for math fact fluency, science explorations, and reading skills.'], dtype=object)"
      ]
     },
     "execution_count": 27,
     "metadata": {},
     "output_type": "execute_result"
    }
   ],
   "source": [
    "train_df.project_essay_2.sample(1).values"
   ]
  },
  {
   "cell_type": "markdown",
   "metadata": {},
   "source": [
    "### Viewing Essay 3 Sample"
   ]
  },
  {
   "cell_type": "code",
   "execution_count": 28,
   "metadata": {},
   "outputs": [
    {
     "data": {
      "text/plain": [
       "array(['No Essay'], dtype=object)"
      ]
     },
     "execution_count": 28,
     "metadata": {},
     "output_type": "execute_result"
    }
   ],
   "source": [
    "train_df.project_essay_3 = train_df.project_essay_3.fillna(value='No Essay')\n",
    "train_df.project_essay_3.sample(1).values"
   ]
  },
  {
   "cell_type": "markdown",
   "metadata": {},
   "source": [
    "### Viewing Essay 4 Sample"
   ]
  },
  {
   "cell_type": "code",
   "execution_count": 29,
   "metadata": {},
   "outputs": [
    {
     "data": {
      "text/plain": [
       "array(['No Essay'], dtype=object)"
      ]
     },
     "execution_count": 29,
     "metadata": {},
     "output_type": "execute_result"
    }
   ],
   "source": [
    "train_df.project_essay_4 = train_df.project_essay_4.fillna(value='No Essay')\n",
    "train_df.project_essay_4.sample(1).values"
   ]
  },
  {
   "cell_type": "markdown",
   "metadata": {},
   "source": [
    "### Viewing Resource Sample"
   ]
  },
  {
   "cell_type": "code",
   "execution_count": 30,
   "metadata": {},
   "outputs": [
    {
     "data": {
      "text/plain": [
       "array([ 'My students need Kindle Fire Tablets to use as a technology center where they can reinforce the reading and math skills taught in class.'], dtype=object)"
      ]
     },
     "execution_count": 30,
     "metadata": {},
     "output_type": "execute_result"
    }
   ],
   "source": [
    "train_df.project_resource_summary.sample(1).values"
   ]
  },
  {
   "cell_type": "markdown",
   "metadata": {},
   "source": [
    "### Project Categories "
   ]
  },
  {
   "cell_type": "code",
   "execution_count": 31,
   "metadata": {},
   "outputs": [
    {
     "ename": "NameError",
     "evalue": "name 'train_psc' is not defined",
     "output_type": "error",
     "traceback": [
      "\u001b[0;31m---------------------------------------------------------------------------\u001b[0m",
      "\u001b[0;31mNameError\u001b[0m                                 Traceback (most recent call last)",
      "\u001b[0;32m<ipython-input-31-d05196604801>\u001b[0m in \u001b[0;36m<module>\u001b[0;34m()\u001b[0m\n\u001b[1;32m      1\u001b[0m \u001b[0mtrain_pc\u001b[0m \u001b[0;34m=\u001b[0m \u001b[0mpd\u001b[0m\u001b[0;34m.\u001b[0m\u001b[0mDataFrame\u001b[0m\u001b[0;34m(\u001b[0m\u001b[0mtrain_df\u001b[0m\u001b[0;34m.\u001b[0m\u001b[0mproject_subject_categories\u001b[0m\u001b[0;34m.\u001b[0m\u001b[0mvalue_counts\u001b[0m\u001b[0;34m(\u001b[0m\u001b[0;34m)\u001b[0m\u001b[0;34m)\u001b[0m\u001b[0;34m\u001b[0m\u001b[0m\n\u001b[1;32m      2\u001b[0m \u001b[0mtest_psc\u001b[0m \u001b[0;34m=\u001b[0m \u001b[0mpd\u001b[0m\u001b[0;34m.\u001b[0m\u001b[0mDataFrame\u001b[0m\u001b[0;34m(\u001b[0m\u001b[0mtest_df\u001b[0m\u001b[0;34m.\u001b[0m\u001b[0mproject_subject_categories\u001b[0m\u001b[0;34m.\u001b[0m\u001b[0mvalue_counts\u001b[0m\u001b[0;34m(\u001b[0m\u001b[0;34m)\u001b[0m\u001b[0;34m)\u001b[0m\u001b[0;34m\u001b[0m\u001b[0m\n\u001b[0;32m----> 3\u001b[0;31m \u001b[0mpc\u001b[0m \u001b[0;34m=\u001b[0m \u001b[0mpd\u001b[0m\u001b[0;34m.\u001b[0m\u001b[0mconcat\u001b[0m\u001b[0;34m(\u001b[0m\u001b[0;34m[\u001b[0m\u001b[0mtrain_psc\u001b[0m\u001b[0;34m,\u001b[0m \u001b[0mtest_psc\u001b[0m\u001b[0;34m]\u001b[0m\u001b[0;34m,\u001b[0m \u001b[0maxis\u001b[0m\u001b[0;34m=\u001b[0m\u001b[0;36m1\u001b[0m\u001b[0;34m)\u001b[0m\u001b[0;34m\u001b[0m\u001b[0m\n\u001b[0m\u001b[1;32m      4\u001b[0m psc.columns= ['train_df_project_subject_categories',\n\u001b[1;32m      5\u001b[0m               'test_df_project_subject_categories']\n",
      "\u001b[0;31mNameError\u001b[0m: name 'train_psc' is not defined"
     ]
    }
   ],
   "source": [
    "train_pc = pd.DataFrame(train_df.project_subject_categories.value_counts())\n",
    "test_psc = pd.DataFrame(test_df.project_subject_categories.value_counts())\n",
    "pc = pd.concat([train_psc, test_psc], axis=1)\n",
    "psc.columns= ['train_df_project_subject_categories',\n",
    "              'test_df_project_subject_categories']\n",
    "pc = psc.sort_index()\n",
    "pc.plot.barh(color=['black','red'])"
   ]
  },
  {
   "cell_type": "code",
   "execution_count": null,
   "metadata": {},
   "outputs": [],
   "source": [
    "train"
   ]
  },
  {
   "cell_type": "markdown",
   "metadata": {},
   "source": [
    "### Project Sub Caterogies"
   ]
  },
  {
   "cell_type": "code",
   "execution_count": null,
   "metadata": {},
   "outputs": [],
   "source": [
    "train_psc = pd.DataFrame(train_df.project_subject_subcategories.value_counts())\n",
    "test_psc = pd.DataFrame(test_df.project_subject_subcategories.value_counts())\n",
    "psc = pd.concat([train_psc, test_psc], axis=1)\n",
    "psc.columns= ['train_df_project_subject_subcategories',\n",
    "              'test_df_project_subject_subcategories']\n",
    "psc = psc.sort_index()\n",
    "psc.plot.barh(color=['black','red'], figsize=(5,60))"
   ]
  },
  {
   "cell_type": "markdown",
   "metadata": {},
   "source": [
    "### Grade Level"
   ]
  },
  {
   "cell_type": "code",
   "execution_count": null,
   "metadata": {},
   "outputs": [],
   "source": [
    "gc = pd.DataFrame(train_df.project_grade_category.value_counts())\n",
    "gc.plot.barh(color='black')"
   ]
  },
  {
   "cell_type": "code",
   "execution_count": null,
   "metadata": {},
   "outputs": [],
   "source": [
    "gc = pd.DataFrame(test_df.project_grade_category.value_counts())\n",
    "gc.plot.barh()"
   ]
  },
  {
   "cell_type": "markdown",
   "metadata": {},
   "source": [
    "### School State"
   ]
  },
  {
   "cell_type": "code",
   "execution_count": null,
   "metadata": {},
   "outputs": [],
   "source": [
    "train_ss = pd.DataFrame(train_df.school_state.value_counts())\n",
    "test_ss = pd.DataFrame(test_df.school_state.value_counts())\n",
    "ss = pd.concat([train_ss, test_ss], axis=1)\n",
    "ss.columns = ['train_ss','test_ss']\n",
    "ss.plot.barh(color=['black','red'], figsize=(5,10))"
   ]
  },
  {
   "cell_type": "markdown",
   "metadata": {},
   "source": [
    "### Teacher Prefix"
   ]
  },
  {
   "cell_type": "code",
   "execution_count": null,
   "metadata": {},
   "outputs": [],
   "source": [
    "tp = pd.DataFrame(train_df.teacher_prefix.value_counts())\n",
    "tp.plot.barh(color=['black'])"
   ]
  },
  {
   "cell_type": "code",
   "execution_count": null,
   "metadata": {},
   "outputs": [],
   "source": [
    "tp = pd.DataFrame(test_df.teacher_prefix.value_counts())\n",
    "tp.plot.barh()"
   ]
  },
  {
   "cell_type": "markdown",
   "metadata": {},
   "source": [
    "### Teachers"
   ]
  },
  {
   "cell_type": "code",
   "execution_count": null,
   "metadata": {},
   "outputs": [],
   "source": [
    "print('train_df teacher records:',len(train_df.teacher_id))\n",
    "print('test_df teacher records:',len(test_df.teacher_id))\n",
    "print()\n",
    "print('train_df unique teacher records:',len(train_df.teacher_id.unique()))\n",
    "print('test_df unique teacher records:',len(test_df.teacher_id.unique()))"
   ]
  },
  {
   "cell_type": "code",
   "execution_count": null,
   "metadata": {},
   "outputs": [],
   "source": [
    "teachers = pd.DataFrame(train_df.teacher_id.value_counts())\n",
    "tearhers_g2= teachers[teachers.teacher_id > 1]\n",
    "print('Teachers that submitted twice:',len(tearhers_g2))\n",
    "\n",
    "tearhers_g10= teachers[teachers.teacher_id > 10]\n",
    "print('Teachers that submitted more than 10 times:',len(tearhers_g10))\n",
    "\n",
    "tearhers_g50= teachers[teachers.teacher_id > 50]\n",
    "print('Teachers that submitted more than 50 times:',len(tearhers_g50))"
   ]
  },
  {
   "cell_type": "code",
   "execution_count": null,
   "metadata": {},
   "outputs": [],
   "source": [
    "teachers = pd.DataFrame(test_df.teacher_id.value_counts())\n",
    "tearhers_g2= teachers[teachers.teacher_id > 1]\n",
    "print('Teachers that submitted twice:',len(tearhers_g2))\n",
    "\n",
    "tearhers_g10= teachers[teachers.teacher_id > 10]\n",
    "print('Teachers that submitted more than 10 times:',len(tearhers_g10))\n",
    "\n",
    "tearhers_g50= teachers[teachers.teacher_id > 50]\n",
    "print('Teachers that submitted more than 50 times:',len(tearhers_g50))"
   ]
  },
  {
   "cell_type": "markdown",
   "metadata": {},
   "source": [
    "### Project Essay\n",
    "\n",
    "It seems applicatiosn used to use 4 essays for their application until 2016-05-17 10:00:51. After this date, applications only used 2 essay questions."
   ]
  },
  {
   "cell_type": "code",
   "execution_count": null,
   "metadata": {},
   "outputs": [],
   "source": [
    "p34 = train_df[['project_essay_3', 'project_essay_4', 'project_submitted_datetime']]\n",
    "p34 = p34.sort_values(['project_submitted_datetime'], ascending=False)\n",
    "p34 = p34.reset_index()\n",
    "p34.head()"
   ]
  },
  {
   "cell_type": "code",
   "execution_count": null,
   "metadata": {},
   "outputs": [],
   "source": [
    "p34.tail()"
   ]
  },
  {
   "cell_type": "code",
   "execution_count": null,
   "metadata": {},
   "outputs": [],
   "source": [
    "p34[p34.project_essay_3 != 'No Essay'].head(1)"
   ]
  },
  {
   "cell_type": "code",
   "execution_count": null,
   "metadata": {},
   "outputs": [],
   "source": [
    "p34[p34.project_essay_4 != 'No Essay'].head(1)"
   ]
  },
  {
   "cell_type": "code",
   "execution_count": null,
   "metadata": {},
   "outputs": [],
   "source": [
    "p34[p34.project_essay_4 == 'No Essay'].tail(1)"
   ]
  },
  {
   "cell_type": "code",
   "execution_count": null,
   "metadata": {},
   "outputs": [],
   "source": [
    "p34[p34.project_essay_3 != 'No Essay'].tail(1)"
   ]
  },
  {
   "cell_type": "code",
   "execution_count": null,
   "metadata": {},
   "outputs": [],
   "source": [
    "p34[p34.project_essay_3 != 'No Essay'].head(20)"
   ]
  },
  {
   "cell_type": "markdown",
   "metadata": {},
   "source": [
    "Author: Kavi Sekhon"
   ]
  }
 ],
 "metadata": {
  "kernelspec": {
   "display_name": "Python 3",
   "language": "python",
   "name": "python3"
  },
  "language_info": {
   "codemirror_mode": {
    "name": "ipython",
    "version": 3
   },
   "file_extension": ".py",
   "mimetype": "text/x-python",
   "name": "python",
   "nbconvert_exporter": "python",
   "pygments_lexer": "ipython3",
   "version": "3.6.2"
  }
 },
 "nbformat": 4,
 "nbformat_minor": 2
}
