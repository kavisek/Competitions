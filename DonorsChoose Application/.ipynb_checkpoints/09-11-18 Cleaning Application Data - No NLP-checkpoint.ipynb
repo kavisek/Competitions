{
 "cells": [
  {
   "cell_type": "markdown",
   "metadata": {},
   "source": [
    "# Clearning Data - Non-NLP"
   ]
  },
  {
   "cell_type": "markdown",
   "metadata": {},
   "source": [
    "### Export the Data"
   ]
  },
  {
   "cell_type": "code",
   "execution_count": 34,
   "metadata": {},
   "outputs": [],
   "source": [
    "%matplotlib inline\n",
    "import pandas as pd\n",
    "import numpy as np\n",
    "import seaborn as sns\n",
    "import matplotlib.pyplot as plt\n",
    "\n",
    "test_df = pd.read_csv('Data/test.csv', low_memory=False,\n",
    "                     parse_dates=['project_submitted_datetime'])\n",
    "train_df = pd.read_csv('Data/train.csv', low_memory=False, \n",
    "                       parse_dates=['project_submitted_datetime'])\n",
    "\n",
    "\n",
    "dfs = [test_df, train_df]"
   ]
  },
  {
   "cell_type": "markdown",
   "metadata": {},
   "source": [
    "### Check Testing Data"
   ]
  },
  {
   "cell_type": "code",
   "execution_count": 35,
   "metadata": {},
   "outputs": [
    {
     "data": {
      "text/plain": [
       "id                                                  0\n",
       "teacher_id                                          0\n",
       "teacher_prefix                                      1\n",
       "school_state                                        0\n",
       "project_submitted_datetime                          0\n",
       "project_grade_category                              0\n",
       "project_subject_categories                          0\n",
       "project_subject_subcategories                       0\n",
       "project_title                                       0\n",
       "project_essay_1                                     0\n",
       "project_essay_2                                     0\n",
       "project_essay_3                                 75331\n",
       "project_essay_4                                 75331\n",
       "project_resource_summary                            0\n",
       "teacher_number_of_previously_posted_projects        0\n",
       "dtype: int64"
      ]
     },
     "execution_count": 35,
     "metadata": {},
     "output_type": "execute_result"
    }
   ],
   "source": [
    "test_df.isnull().sum()"
   ]
  },
  {
   "cell_type": "code",
   "execution_count": 36,
   "metadata": {},
   "outputs": [
    {
     "data": {
      "text/plain": [
       "id                                                   0\n",
       "teacher_id                                           0\n",
       "teacher_prefix                                       4\n",
       "school_state                                         0\n",
       "project_submitted_datetime                           0\n",
       "project_grade_category                               0\n",
       "project_subject_categories                           0\n",
       "project_subject_subcategories                        0\n",
       "project_title                                        0\n",
       "project_essay_1                                      0\n",
       "project_essay_2                                      0\n",
       "project_essay_3                                 175706\n",
       "project_essay_4                                 175706\n",
       "project_resource_summary                             0\n",
       "teacher_number_of_previously_posted_projects         0\n",
       "project_is_approved                                  0\n",
       "dtype: int64"
      ]
     },
     "execution_count": 36,
     "metadata": {},
     "output_type": "execute_result"
    }
   ],
   "source": [
    "train_df.isnull().sum()"
   ]
  },
  {
   "cell_type": "markdown",
   "metadata": {},
   "source": [
    "### Handling Null Values"
   ]
  },
  {
   "cell_type": "code",
   "execution_count": 37,
   "metadata": {},
   "outputs": [],
   "source": [
    "# Place marker for missing teaher prefixes, and projects 3 & 4\n",
    "for df in dfs:\n",
    "    df.teacher_prefix = df.teacher_prefix.fillna(value='No Prefix')\n",
    "    df.project_essay_3 = df.project_essay_3.fillna(value='No Essay')\n",
    "    df.project_essay_4 = df.project_essay_4.fillna(value='No Essay')"
   ]
  },
  {
   "cell_type": "markdown",
   "metadata": {},
   "source": [
    "### Seperating Category"
   ]
  },
  {
   "cell_type": "code",
   "execution_count": 38,
   "metadata": {},
   "outputs": [],
   "source": [
    "train_df.project_subject_categories = train_df.project_subject_categories.str.replace(' & ', ' ')\n",
    "train_df.project_subject_categories = train_df.project_subject_categories.str.replace(',', '')\n",
    "train_df.project_subject_categories = train_df.project_subject_categories.str.replace('The ', '')\n",
    "train_df.project_subject_categories = train_df.project_subject_categories.apply(lambda x: x.split())"
   ]
  },
  {
   "cell_type": "code",
   "execution_count": 92,
   "metadata": {},
   "outputs": [
    {
     "data": {
      "text/plain": [
       "8323    [Math, Science]\n",
       "Name: project_subject_categories, dtype: object"
      ]
     },
     "execution_count": 92,
     "metadata": {},
     "output_type": "execute_result"
    }
   ],
   "source": [
    "train_df.project_subject_categories.head(1)"
   ]
  },
  {
   "cell_type": "code",
   "execution_count": 124,
   "metadata": {},
   "outputs": [
    {
     "data": {
      "text/html": [
       "<div>\n",
       "<style scoped>\n",
       "    .dataframe tbody tr th:only-of-type {\n",
       "        vertical-align: middle;\n",
       "    }\n",
       "\n",
       "    .dataframe tbody tr th {\n",
       "        vertical-align: top;\n",
       "    }\n",
       "\n",
       "    .dataframe thead th {\n",
       "        text-align: right;\n",
       "    }\n",
       "</style>\n",
       "<table border=\"1\" class=\"dataframe\">\n",
       "  <thead>\n",
       "    <tr style=\"text-align: right;\">\n",
       "      <th></th>\n",
       "      <th>Literacy</th>\n",
       "      <th>Language</th>\n",
       "    </tr>\n",
       "  </thead>\n",
       "  <tbody>\n",
       "    <tr>\n",
       "      <th>0</th>\n",
       "      <td>1</td>\n",
       "      <td>1</td>\n",
       "    </tr>\n",
       "  </tbody>\n",
       "</table>\n",
       "</div>"
      ],
      "text/plain": [
       "   Literacy  Language\n",
       "0         1         1"
      ]
     },
     "execution_count": 124,
     "metadata": {},
     "output_type": "execute_result"
    }
   ],
   "source": [
    "dummy_row = pd.get_dummies(pd.DataFrame(data=[[\n",
    "    'Math', 'Science']]))\n",
    "dummy_row.columns = row\n",
    "\n",
    "dummy_row = pd.DataFrame(dummy_row).reset_index(drop=True)\n",
    "dummy_row[]"
   ]
  },
  {
   "cell_type": "code",
   "execution_count": 134,
   "metadata": {},
   "outputs": [
    {
     "name": "stdout",
     "output_type": "stream",
     "text": [
      "   Math  Science\n",
      "0     1        1\n",
      "Empty DataFrame\n",
      "Columns: [Math, Science, Music, Arts, Warmth, Care, Hunger, Health, Sports, Literacy, Language]\n",
      "Index: []\n",
      "   Math  Science\n",
      "0     1        1\n",
      "  Arts Care Health Hunger Language Literacy Math Music Science Sports Warmth\n",
      "0  NaN  NaN    NaN    NaN      NaN      NaN    1   NaN       1    NaN    NaN\n",
      "   Math  Science\n",
      "0     1        1\n",
      "  Arts Care Health Hunger Language Literacy Math Music Science Sports Warmth\n",
      "0  NaN  NaN    NaN    NaN      NaN      NaN    1   NaN       1    NaN    NaN\n",
      "0  NaN  NaN    NaN    NaN      NaN      NaN    1   NaN       1    NaN    NaN\n",
      "   Music  Arts\n",
      "0      1     1\n",
      "  Arts Care Health Hunger Language Literacy Math Music Science Sports Warmth\n",
      "0  NaN  NaN    NaN    NaN      NaN      NaN    1   NaN       1    NaN    NaN\n",
      "0  NaN  NaN    NaN    NaN      NaN      NaN    1   NaN       1    NaN    NaN\n",
      "0  NaN  NaN    NaN    NaN      NaN      NaN    1   NaN       1    NaN    NaN\n",
      "   Math  Science  Music  Arts\n",
      "0     1        1      1     1\n",
      "  Arts Care Health Hunger Language Literacy Math Music Science Sports Warmth\n",
      "0  NaN  NaN    NaN    NaN      NaN      NaN    1   NaN       1    NaN    NaN\n",
      "0  NaN  NaN    NaN    NaN      NaN      NaN    1   NaN       1    NaN    NaN\n",
      "0  NaN  NaN    NaN    NaN      NaN      NaN    1   NaN       1    NaN    NaN\n",
      "0    1  NaN    NaN    NaN      NaN      NaN  NaN     1     NaN    NaN    NaN\n",
      "   Warmth  Care  Hunger\n",
      "0       1     1       1\n",
      "  Arts Care Health Hunger Language Literacy Math Music Science Sports Warmth\n",
      "0  NaN  NaN    NaN    NaN      NaN      NaN    1   NaN       1    NaN    NaN\n",
      "0  NaN  NaN    NaN    NaN      NaN      NaN    1   NaN       1    NaN    NaN\n",
      "0  NaN  NaN    NaN    NaN      NaN      NaN    1   NaN       1    NaN    NaN\n",
      "0    1  NaN    NaN    NaN      NaN      NaN  NaN     1     NaN    NaN    NaN\n",
      "0    1  NaN    NaN    NaN      NaN      NaN    1     1       1    NaN    NaN\n",
      "   Math  Science\n",
      "0     1        1\n",
      "  Arts Care Health Hunger Language Literacy Math Music Science Sports Warmth\n",
      "0  NaN  NaN    NaN    NaN      NaN      NaN    1   NaN       1    NaN    NaN\n",
      "0  NaN  NaN    NaN    NaN      NaN      NaN    1   NaN       1    NaN    NaN\n",
      "0  NaN  NaN    NaN    NaN      NaN      NaN    1   NaN       1    NaN    NaN\n",
      "0    1  NaN    NaN    NaN      NaN      NaN  NaN     1     NaN    NaN    NaN\n",
      "0    1  NaN    NaN    NaN      NaN      NaN    1     1       1    NaN    NaN\n",
      "0  NaN    1    NaN      1      NaN      NaN  NaN   NaN     NaN    NaN      1\n",
      "   Math  Science\n",
      "0     1        1\n",
      "  Arts Care Health Hunger Language Literacy Math Music Science Sports Warmth\n",
      "0  NaN  NaN    NaN    NaN      NaN      NaN    1   NaN       1    NaN    NaN\n",
      "0  NaN  NaN    NaN    NaN      NaN      NaN    1   NaN       1    NaN    NaN\n",
      "0  NaN  NaN    NaN    NaN      NaN      NaN    1   NaN       1    NaN    NaN\n",
      "0    1  NaN    NaN    NaN      NaN      NaN  NaN     1     NaN    NaN    NaN\n",
      "0    1  NaN    NaN    NaN      NaN      NaN    1     1       1    NaN    NaN\n",
      "0  NaN    1    NaN      1      NaN      NaN  NaN   NaN     NaN    NaN      1\n",
      "0  NaN  NaN    NaN    NaN      NaN      NaN    1   NaN       1    NaN    NaN\n",
      "   Health  Sports\n",
      "0       1       1\n",
      "  Arts Care Health Hunger Language Literacy Math Music Science Sports Warmth\n",
      "0  NaN  NaN    NaN    NaN      NaN      NaN    1   NaN       1    NaN    NaN\n",
      "0  NaN  NaN    NaN    NaN      NaN      NaN    1   NaN       1    NaN    NaN\n",
      "0  NaN  NaN    NaN    NaN      NaN      NaN    1   NaN       1    NaN    NaN\n",
      "0    1  NaN    NaN    NaN      NaN      NaN  NaN     1     NaN    NaN    NaN\n",
      "0    1  NaN    NaN    NaN      NaN      NaN    1     1       1    NaN    NaN\n",
      "0  NaN    1    NaN      1      NaN      NaN  NaN   NaN     NaN    NaN      1\n",
      "0  NaN  NaN    NaN    NaN      NaN      NaN    1   NaN       1    NaN    NaN\n",
      "0  NaN  NaN    NaN    NaN      NaN      NaN    1   NaN       1    NaN    NaN\n",
      "   Literacy  Language\n",
      "0         1         1\n",
      "  Arts Care Health Hunger Language Literacy Math Music Science Sports Warmth\n",
      "0  NaN  NaN    NaN    NaN      NaN      NaN    1   NaN       1    NaN    NaN\n",
      "0  NaN  NaN    NaN    NaN      NaN      NaN    1   NaN       1    NaN    NaN\n",
      "0  NaN  NaN    NaN    NaN      NaN      NaN    1   NaN       1    NaN    NaN\n",
      "0    1  NaN    NaN    NaN      NaN      NaN  NaN     1     NaN    NaN    NaN\n",
      "0    1  NaN    NaN    NaN      NaN      NaN    1     1       1    NaN    NaN\n",
      "0  NaN    1    NaN      1      NaN      NaN  NaN   NaN     NaN    NaN      1\n",
      "0  NaN  NaN    NaN    NaN      NaN      NaN    1   NaN       1    NaN    NaN\n",
      "0  NaN  NaN    NaN    NaN      NaN      NaN    1   NaN       1    NaN    NaN\n",
      "0  NaN  NaN      1    NaN      NaN      NaN  NaN   NaN     NaN      1    NaN\n"
     ]
    }
   ],
   "source": [
    "def get_dummies_from_series_of_lists(series):\n",
    "    # Creating main dummies output dataframe \n",
    "    subject_categories = list()\n",
    "    for row in series :\n",
    "        for value in row:\n",
    "            if value not in subject_categories:\n",
    "                subject_categories.append(value)\n",
    "    dummies = pd.DataFrame(columns=subject_categories)\n",
    "    dummies.sort_index(1)\n",
    "    \n",
    "    # Append series data to dummies dataframe\n",
    "    for row in series:\n",
    "        dummy_row = pd.get_dummies(pd.DataFrame(data=[row]))\n",
    "        dummy_row.columns = row\n",
    "        dummy_row.sort_index(1)\n",
    "        print(dummy_row)\n",
    "        print(dummies)\n",
    "        dummies = dummies.append(dummy_row)\n",
    "    dummies = dummies.fillna(value=0).reset_index(drop=True)\n",
    "    return dummies\n",
    "\n",
    "train_df_project_subject_categories = get_dummies_from_series_of_lists(train_df.project_subject_categories)"
   ]
  },
  {
   "cell_type": "code",
   "execution_count": 136,
   "metadata": {},
   "outputs": [
    {
     "data": {
      "text/html": [
       "<div>\n",
       "<style scoped>\n",
       "    .dataframe tbody tr th:only-of-type {\n",
       "        vertical-align: middle;\n",
       "    }\n",
       "\n",
       "    .dataframe tbody tr th {\n",
       "        vertical-align: top;\n",
       "    }\n",
       "\n",
       "    .dataframe thead th {\n",
       "        text-align: right;\n",
       "    }\n",
       "</style>\n",
       "<table border=\"1\" class=\"dataframe\">\n",
       "  <thead>\n",
       "    <tr style=\"text-align: right;\">\n",
       "      <th></th>\n",
       "      <th>Arts</th>\n",
       "      <th>Care</th>\n",
       "      <th>Health</th>\n",
       "      <th>Hunger</th>\n",
       "      <th>Language</th>\n",
       "      <th>Literacy</th>\n",
       "      <th>Math</th>\n",
       "      <th>Music</th>\n",
       "      <th>Science</th>\n",
       "      <th>Sports</th>\n",
       "      <th>Warmth</th>\n",
       "    </tr>\n",
       "  </thead>\n",
       "  <tbody>\n",
       "    <tr>\n",
       "      <th>0</th>\n",
       "      <td>0</td>\n",
       "      <td>0</td>\n",
       "      <td>0</td>\n",
       "      <td>0</td>\n",
       "      <td>0</td>\n",
       "      <td>0</td>\n",
       "      <td>1</td>\n",
       "      <td>0</td>\n",
       "      <td>1</td>\n",
       "      <td>0</td>\n",
       "      <td>0</td>\n",
       "    </tr>\n",
       "    <tr>\n",
       "      <th>1</th>\n",
       "      <td>0</td>\n",
       "      <td>0</td>\n",
       "      <td>0</td>\n",
       "      <td>0</td>\n",
       "      <td>0</td>\n",
       "      <td>0</td>\n",
       "      <td>1</td>\n",
       "      <td>0</td>\n",
       "      <td>1</td>\n",
       "      <td>0</td>\n",
       "      <td>0</td>\n",
       "    </tr>\n",
       "    <tr>\n",
       "      <th>2</th>\n",
       "      <td>0</td>\n",
       "      <td>0</td>\n",
       "      <td>0</td>\n",
       "      <td>0</td>\n",
       "      <td>0</td>\n",
       "      <td>0</td>\n",
       "      <td>1</td>\n",
       "      <td>0</td>\n",
       "      <td>1</td>\n",
       "      <td>0</td>\n",
       "      <td>0</td>\n",
       "    </tr>\n",
       "    <tr>\n",
       "      <th>3</th>\n",
       "      <td>1</td>\n",
       "      <td>0</td>\n",
       "      <td>0</td>\n",
       "      <td>0</td>\n",
       "      <td>0</td>\n",
       "      <td>0</td>\n",
       "      <td>0</td>\n",
       "      <td>1</td>\n",
       "      <td>0</td>\n",
       "      <td>0</td>\n",
       "      <td>0</td>\n",
       "    </tr>\n",
       "    <tr>\n",
       "      <th>4</th>\n",
       "      <td>1</td>\n",
       "      <td>0</td>\n",
       "      <td>0</td>\n",
       "      <td>0</td>\n",
       "      <td>0</td>\n",
       "      <td>0</td>\n",
       "      <td>1</td>\n",
       "      <td>1</td>\n",
       "      <td>1</td>\n",
       "      <td>0</td>\n",
       "      <td>0</td>\n",
       "    </tr>\n",
       "    <tr>\n",
       "      <th>5</th>\n",
       "      <td>0</td>\n",
       "      <td>1</td>\n",
       "      <td>0</td>\n",
       "      <td>1</td>\n",
       "      <td>0</td>\n",
       "      <td>0</td>\n",
       "      <td>0</td>\n",
       "      <td>0</td>\n",
       "      <td>0</td>\n",
       "      <td>0</td>\n",
       "      <td>1</td>\n",
       "    </tr>\n",
       "    <tr>\n",
       "      <th>6</th>\n",
       "      <td>0</td>\n",
       "      <td>0</td>\n",
       "      <td>0</td>\n",
       "      <td>0</td>\n",
       "      <td>0</td>\n",
       "      <td>0</td>\n",
       "      <td>1</td>\n",
       "      <td>0</td>\n",
       "      <td>1</td>\n",
       "      <td>0</td>\n",
       "      <td>0</td>\n",
       "    </tr>\n",
       "    <tr>\n",
       "      <th>7</th>\n",
       "      <td>0</td>\n",
       "      <td>0</td>\n",
       "      <td>0</td>\n",
       "      <td>0</td>\n",
       "      <td>0</td>\n",
       "      <td>0</td>\n",
       "      <td>1</td>\n",
       "      <td>0</td>\n",
       "      <td>1</td>\n",
       "      <td>0</td>\n",
       "      <td>0</td>\n",
       "    </tr>\n",
       "    <tr>\n",
       "      <th>8</th>\n",
       "      <td>0</td>\n",
       "      <td>0</td>\n",
       "      <td>1</td>\n",
       "      <td>0</td>\n",
       "      <td>0</td>\n",
       "      <td>0</td>\n",
       "      <td>0</td>\n",
       "      <td>0</td>\n",
       "      <td>0</td>\n",
       "      <td>1</td>\n",
       "      <td>0</td>\n",
       "    </tr>\n",
       "    <tr>\n",
       "      <th>9</th>\n",
       "      <td>0</td>\n",
       "      <td>0</td>\n",
       "      <td>0</td>\n",
       "      <td>0</td>\n",
       "      <td>1</td>\n",
       "      <td>1</td>\n",
       "      <td>0</td>\n",
       "      <td>0</td>\n",
       "      <td>0</td>\n",
       "      <td>0</td>\n",
       "      <td>0</td>\n",
       "    </tr>\n",
       "  </tbody>\n",
       "</table>\n",
       "</div>"
      ],
      "text/plain": [
       "   Arts  Care  Health  Hunger  Language  Literacy  Math  Music  Science  \\\n",
       "0     0     0       0       0         0         0     1      0        1   \n",
       "1     0     0       0       0         0         0     1      0        1   \n",
       "2     0     0       0       0         0         0     1      0        1   \n",
       "3     1     0       0       0         0         0     0      1        0   \n",
       "4     1     0       0       0         0         0     1      1        1   \n",
       "5     0     1       0       1         0         0     0      0        0   \n",
       "6     0     0       0       0         0         0     1      0        1   \n",
       "7     0     0       0       0         0         0     1      0        1   \n",
       "8     0     0       1       0         0         0     0      0        0   \n",
       "9     0     0       0       0         1         1     0      0        0   \n",
       "\n",
       "   Sports  Warmth  \n",
       "0       0       0  \n",
       "1       0       0  \n",
       "2       0       0  \n",
       "3       0       0  \n",
       "4       0       0  \n",
       "5       0       1  \n",
       "6       0       0  \n",
       "7       0       0  \n",
       "8       1       0  \n",
       "9       0       0  "
      ]
     },
     "execution_count": 136,
     "metadata": {},
     "output_type": "execute_result"
    }
   ],
   "source": [
    "train_df_project_subject_categories"
   ]
  },
  {
   "cell_type": "markdown",
   "metadata": {},
   "source": [
    "### Export the Data"
   ]
  },
  {
   "cell_type": "code",
   "execution_count": null,
   "metadata": {},
   "outputs": [],
   "source": [
    "train_df.to_csv('Data/cleaned_train_df.csv')\n",
    "test_df.to_csv('Data/cleaned_test_df.csv')"
   ]
  }
 ],
 "metadata": {
  "kernelspec": {
   "display_name": "Python 3",
   "language": "python",
   "name": "python3"
  },
  "language_info": {
   "codemirror_mode": {
    "name": "ipython",
    "version": 3
   },
   "file_extension": ".py",
   "mimetype": "text/x-python",
   "name": "python",
   "nbconvert_exporter": "python",
   "pygments_lexer": "ipython3",
   "version": "3.6.2"
  }
 },
 "nbformat": 4,
 "nbformat_minor": 2
}
