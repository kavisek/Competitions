{
 "cells": [
  {
   "cell_type": "markdown",
   "metadata": {},
   "source": [
    "# Label Encoding\n",
    "### Import Preliminaries"
   ]
  },
  {
   "cell_type": "code",
   "execution_count": 54,
   "metadata": {},
   "outputs": [],
   "source": [
    "%matplotlib inline\n",
    "import pandas as pd\n",
    "import numpy as np\n",
    "import seaborn as sns\n",
    "import matplotlib.pyplot as plt\n",
    "from tqdm import *\n",
    "\n",
    "test_df = pd.read_csv('Data/cleaned_nlp_test_df.csv', low_memory=False,\n",
    "                     parse_dates=['project_submitted_datetime'])\n",
    "train_df = pd.read_csv('Data/cleaned_nlp_train_df.csv', low_memory=False, \n",
    "                       parse_dates=['project_submitted_datetime'])\n",
    "\n",
    "dfs = [test_df, train_df]"
   ]
  },
  {
   "cell_type": "code",
   "execution_count": 55,
   "metadata": {},
   "outputs": [
    {
     "data": {
      "text/plain": [
       "(182080, 146)"
      ]
     },
     "execution_count": 55,
     "metadata": {},
     "output_type": "execute_result"
    }
   ],
   "source": [
    "train_df.shape"
   ]
  },
  {
   "cell_type": "markdown",
   "metadata": {},
   "source": [
    "### Dropping Non-Essential  Featurse"
   ]
  },
  {
   "cell_type": "code",
   "execution_count": 56,
   "metadata": {},
   "outputs": [],
   "source": [
    "train_df.drop(['id','project_subject_categories','project_subject_subcategories','project_submitted_datetime'],inplace=True, axis=1)\n",
    "test_df.drop(['id','project_subject_categories','project_subject_subcategories','project_submitted_datetime'],inplace=True, axis=1)"
   ]
  },
  {
   "cell_type": "markdown",
   "metadata": {},
   "source": [
    "### Encoding Categorical Values"
   ]
  },
  {
   "cell_type": "code",
   "execution_count": 57,
   "metadata": {},
   "outputs": [],
   "source": [
    "%%timeit\n",
    "\n",
    "for col in list(train_df.select_dtypes('object').columns):\n",
    "    train_df[col] = train_df[col].astype('category')\n",
    "    train_df[col] = train_df[col].cat.codes\n",
    "    \n",
    "for col in list(test_df.select_dtypes('object').columns):\n",
    "    test_df[col] = test_df[col].astype('category')\n",
    "    test_df[col] = test_df[col].cat.codes"
   ]
  },
  {
   "cell_type": "markdown",
   "metadata": {},
   "source": [
    "### Exporting the Data"
   ]
  },
  {
   "cell_type": "code",
   "execution_count": 58,
   "metadata": {},
   "outputs": [],
   "source": [
    "train_df.to_csv('Data/encoded_train_df.csv', index=False)\n",
    "test_df.to_csv('Data/encoded_test_df.csv', index=False)"
   ]
  }
 ],
 "metadata": {
  "kernelspec": {
   "display_name": "Python 3",
   "language": "python",
   "name": "python3"
  },
  "language_info": {
   "codemirror_mode": {
    "name": "ipython",
    "version": 3
   },
   "file_extension": ".py",
   "mimetype": "text/x-python",
   "name": "python",
   "nbconvert_exporter": "python",
   "pygments_lexer": "ipython3",
   "version": "3.6.2"
  }
 },
 "nbformat": 4,
 "nbformat_minor": 2
}
